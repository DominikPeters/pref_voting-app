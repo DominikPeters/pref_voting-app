{
 "cells": [
  {
   "cell_type": "code",
   "execution_count": 2,
   "id": "64bc7052",
   "metadata": {},
   "outputs": [
    {
     "ename": "SyntaxError",
     "evalue": "unterminated triple-quoted string literal (detected at line 1062) (variable_voter_axioms.py, line 984)",
     "output_type": "error",
     "traceback": [
      "Traceback \u001b[0;36m(most recent call last)\u001b[0m:\n",
      "\u001b[0m  File \u001b[1;32m/Library/Frameworks/Python.framework/Versions/3.11/lib/python3.11/site-packages/IPython/core/interactiveshell.py:3442\u001b[0m in \u001b[1;35mrun_code\u001b[0m\n    exec(code_obj, self.user_global_ns, self.user_ns)\u001b[0m\n",
      "\u001b[0;36m  Cell \u001b[0;32mIn[2], line 27\u001b[0;36m\n\u001b[0;31m    from pref_voting.variable_voter_axioms import *\u001b[0;36m\n",
      "\u001b[0;36m  File \u001b[0;32m~/Dropbox/code/voting-scripts/pref_voting/pref_voting/variable_voter_axioms.py:984\u001b[0;36m\u001b[0m\n\u001b[0;31m    \"\"\"\u001b[0m\n\u001b[0m    ^\u001b[0m\n\u001b[0;31mSyntaxError\u001b[0m\u001b[0;31m:\u001b[0m unterminated triple-quoted string literal (detected at line 1062)\n"
     ]
    }
   ],
   "source": [
    "from pref_voting.profiles_with_ties import *\n",
    "from pref_voting.voting_methods import *\n",
    "from pref_voting.analysis import *\n",
    "from pref_voting.generate_profiles import *\n",
    "from pref_voting.generate_weighted_majority_graphs import *\n",
    "\n",
    "from pref_voting.utility_profiles import UtilityProfile, write_utility_profiles_to_json, read_utility_profiles_from_json\n",
    "\n",
    "from pref_voting.generate_utility_profiles import *\n",
    "from pref_voting.generate_utility_profiles import *\n",
    "from pref_voting.utility_methods import *\n",
    "\n",
    "from pref_voting.spatial_profiles import SpatialProfile\n",
    "from pref_voting.generate_spatial_profiles import *\n",
    "from pref_voting.utility_functions import *\n",
    "from pref_voting.probabilistic_methods import *\n",
    "from tqdm.notebook import tqdm\n",
    "import nashpy as nash\n",
    "import numpy as np\n",
    "import random2 as random\n",
    "from pref_voting.mappings import _Mapping\n",
    "from multiprocess import Pool, cpu_count, current_process\n",
    "from numba import njit, float32\n",
    "import pickle\n",
    "import json\n",
    "\n",
    "from pref_voting.variable_voter_axioms import *"
   ]
  },
  {
   "cell_type": "code",
   "execution_count": null,
   "metadata": {},
   "outputs": [],
   "source": [
    "prof = generate_profile(4, 15)\n",
    "\n",
    "mg = prof.margin_graph()\n",
    "\n"
   ]
  },
  {
   "cell_type": "code",
   "execution_count": null,
   "metadata": {},
   "outputs": [],
   "source": [
    "def split_longest_cycle(edata): \n",
    "\n",
    "    "
   ]
  },
  {
   "cell_type": "code",
   "execution_count": null,
   "metadata": {},
   "outputs": [],
   "source": []
  },
  {
   "cell_type": "code",
   "execution_count": null,
   "metadata": {},
   "outputs": [],
   "source": [
    "sc_count = 0\n",
    "total_count = 0\n",
    "\n",
    "for mg in enumerate_canonical_edge_ordered_tournaments(4):\n",
    "    total_count += 1\n",
    "    if len(split_cycle(mg)) > 1:\n",
    "        #mg.display()\n",
    "        #print(split_cycle(mg))\n",
    "        #print(\"\")\n",
    "        sc_count +=1\n",
    "\n",
    "\n",
    "print(count)\n",
    "print(total_count)"
   ]
  },
  {
   "cell_type": "code",
   "execution_count": null,
   "metadata": {},
   "outputs": [],
   "source": []
  },
  {
   "cell_type": "code",
   "execution_count": null,
   "metadata": {},
   "outputs": [],
   "source": []
  },
  {
   "cell_type": "code",
   "execution_count": 32,
   "metadata": {},
   "outputs": [
    {
     "name": "stdout",
     "output_type": "stream",
     "text": [
      "72\n",
      "Plurality\n",
      "Plurality winner is {2}\n",
      "Borda\n",
      "Borda winner is {2}\n",
      "Borda\n",
      "Borda winner is {2}\n",
      "Instant Runoff PUT\n",
      "Instant Runoff PUT winner is {2}\n",
      "Bottom-Two-Runoff Instant Runoff\n",
      "Bottom-Two-Runoff Instant Runoff winner is {2}\n",
      "Bottom-Two-Runoff Instant Runoff PUT\n",
      "Bottom-Two-Runoff Instant Runoff PUT winner is {2}\n",
      "Benham PUT\n",
      "Benham PUT winner is {2}\n",
      "PluralityWRunoff PUT\n",
      "PluralityWRunoff PUT winners are {0, 2}\n",
      "Iterated Removal Condorcet Loser\n",
      "Iterated Removal Condorcet Loser winners are {0, 1, 2, 3}\n",
      "Raynaud\n",
      "Raynaud winners are {0, 2}\n",
      "Tideman Alternative Top Cycle\n",
      "Tideman Alternative Top Cycle winner is {2}\n",
      "Tideman Alternative Top Cycle PUT\n",
      "Tideman Alternative Top Cycle PUT winner is {2}\n",
      "Tideman Alternative GOCHA\n",
      "Tideman Alternative GOCHA winner is {2}\n",
      "Tideman Alternative GOCHA PUT\n",
      "Tideman Alternative GOCHA PUT winner is {2}\n",
      "Knockout Voting\n",
      "Knockout Voting winner is {2}\n",
      "Condorcet\n",
      "Condorcet winners are {0, 1, 2, 3}\n",
      "Copeland\n",
      "Copeland winner is {2}\n",
      "Llull\n",
      "Llull winners are {0, 2}\n",
      "Uncovered Set\n",
      "Uncovered Set winners are {0, 2}\n",
      "Uncovered Set - Fishburn\n",
      "Uncovered Set - Fishburn winners are {0, 2}\n",
      "Uncovered Set - Bordes\n",
      "Uncovered Set - Bordes winners are {0, 2}\n",
      "Uncovered Set - McKelvey\n",
      "Uncovered Set - McKelvey winners are {0, 2}\n",
      "Top Cycle\n",
      "Top Cycle winners are {0, 1, 2, 3}\n",
      "GOCHA\n",
      "GOCHA winners are {0, 2}\n",
      "Bipartisan Set\n",
      "Bipartisan Set winner is {0}\n",
      "Minimax\n",
      "Minimax winners are {0, 2}\n",
      "Split Cycle\n",
      "Split Cycle winners are {0, 2}\n",
      "Split Cycle\n",
      "Split Cycle winners are {0, 2}\n",
      "Beat Path\n",
      "Beat Path winners are {0, 2}\n",
      "Beat Path\n",
      "Beat Path winners are {0, 2}\n",
      "Ranked Pairs TB\n",
      "Ranked Pairs TB winner is {0}\n",
      "Simple Stable Voting\n",
      "Simple Stable Voting winner is {2}\n",
      "Simple Stable Voting\n",
      "Simple Stable Voting winner is {2}\n",
      "Stable Voting\n",
      "Stable Voting winner is {2}\n",
      "Stable Voting\n",
      "Stable Voting winner is {2}\n",
      "Loss-Trimmer Voting\n",
      "Loss-Trimmer Voting winners are {0, 2}\n",
      "Daunou\n",
      "Daunou winner is {2}\n",
      "Blacks\n",
      "Blacks winner is {2}\n",
      "Condorcet IRV PUT\n",
      "Condorcet IRV PUT winner is {2}\n",
      "Smith IRV PUT\n",
      "Smith IRV PUT winner is {2}\n",
      "Smith-Minimax\n",
      "Smith-Minimax winners are {0, 2}\n",
      "Condorcet Plurality\n",
      "Condorcet Plurality winner is {2}\n",
      "Copeland-Local-Borda\n",
      "Copeland-Local-Borda winner is {2}\n",
      "Copeland-Global-Borda\n",
      "Copeland-Global-Borda winner is {2}\n",
      "Banks\n",
      "Banks winners are {0, 2}\n",
      "Slater\n",
      "Slater winners are {0, 2}\n",
      "Majority\n",
      "Majority winners are {}\n",
      "Bracket Voting\n",
      "Bracket Voting winner is {2}\n",
      "Superior Voting\n",
      "Superior Voting winner is {2}\n"
     ]
    }
   ],
   "source": [
    "print(len(voting_methods))\n",
    "\n",
    "skip_vms = [anti_plurality, scoring_rule, instant_runoff, instant_runoff_tb, hare, ranked_choice, benham, coombs, coombs_tb, coombs_put, benham_tb, baldwin, baldwin_tb, baldwin_put, strict_nanson, weak_nanson, ranked_pairs_zt, condorcet_irv, smith_irv, kemeny_young, bucklin, simplified_bucklin, weighted_bucklin]\n",
    "prof = generate_truncated_profile(4, 15)\n",
    "for vm in voting_methods: \n",
    "    if vm in skip_vms: continue\n",
    "    print(vm.name)\n",
    "    vm.display(prof)"
   ]
  },
  {
   "cell_type": "code",
   "execution_count": 2,
   "id": "c9a451b5",
   "metadata": {},
   "outputs": [
    {
     "name": "stdout",
     "output_type": "stream",
     "text": [
      "+---+---+---+---+---+---+\n",
      "| 1 | 1 | 1 | 4 | 2 | 1 |\n",
      "+---+---+---+---+---+---+\n",
      "| 1 | 0 | 2 | 2 | 1 | 0 |\n",
      "| 2 | 1 | 0 | 1 | 0 | 2 |\n",
      "| 0 | 2 | 1 | 0 | 2 | 1 |\n",
      "+---+---+---+---+---+---+\n",
      "<pref_voting.profiles_with_ties.ProfileWithTies object at 0x2c11861d0>\n",
      "{0: 2, 1: 3, 2: 5}\n",
      "+---+---+---+---+---+---+\n",
      "| 1 | 1 | 1 | 1 | 1 | 1 |\n",
      "+---+---+---+---+---+---+\n",
      "| 0 | 0 |   |   | 2 | 0 |\n",
      "| 1 |   |   |   |   |   |\n",
      "|   |   |   |   |   |   |\n",
      "|   |   |   |   |   |   |\n",
      "+---+---+---+---+---+---+\n",
      "{0: 8, 1: -2, 2: -1, 3: -5}\n",
      "[0]\n"
     ]
    }
   ],
   "source": [
    "prof = generate_profile(3, 10)\n",
    "prof.display()\n",
    "print(prof.to_profile_with_ties())\n",
    "print(prof.plurality_scores())\n",
    "\n",
    "prof = ProfileWithTies([{0:1, 1:2},  {0:1}, {}, {},{2:1}, {0:1}], candidates=[0,1,2,3])\n",
    "prof.display()\n",
    "print(prof.borda_scores())\n",
    "print(knockout(prof))"
   ]
  },
  {
   "cell_type": "code",
   "execution_count": null,
   "id": "06018347",
   "metadata": {},
   "outputs": [],
   "source": []
  },
  {
   "cell_type": "code",
   "execution_count": null,
   "id": "01fd9f9a",
   "metadata": {},
   "outputs": [],
   "source": []
  },
  {
   "cell_type": "code",
   "execution_count": 15,
   "id": "1882330e",
   "metadata": {},
   "outputs": [
    {
     "name": "stdout",
     "output_type": "stream",
     "text": [
      "Baldwin winner is {2}\n"
     ]
    },
    {
     "ename": "AttributeError",
     "evalue": "'ProfileWithTies' object has no attribute '_rcounts'",
     "output_type": "error",
     "traceback": [
      "\u001b[0;31m---------------------------------------------------------------------------\u001b[0m",
      "\u001b[0;31mAttributeError\u001b[0m                            Traceback (most recent call last)",
      "\u001b[1;32m/Users/epacuit/Dropbox/code/voting-scripts/pref_voting/test.ipynb Cell 5\u001b[0m line \u001b[0;36m7\n\u001b[1;32m      <a href='vscode-notebook-cell:/Users/epacuit/Dropbox/code/voting-scripts/pref_voting/test.ipynb#Y202sZmlsZQ%3D%3D?line=4'>5</a>\u001b[0m new_prof\u001b[39m.\u001b[39muse_extended_strict_preference()\n\u001b[1;32m      <a href='vscode-notebook-cell:/Users/epacuit/Dropbox/code/voting-scripts/pref_voting/test.ipynb#Y202sZmlsZQ%3D%3D?line=5'>6</a>\u001b[0m baldwin\u001b[39m.\u001b[39mdisplay(prof)\n\u001b[0;32m----> <a href='vscode-notebook-cell:/Users/epacuit/Dropbox/code/voting-scripts/pref_voting/test.ipynb#Y202sZmlsZQ%3D%3D?line=6'>7</a>\u001b[0m baldwin\u001b[39m.\u001b[39;49mdisplay(prof_w_t) \n\u001b[1;32m      <a href='vscode-notebook-cell:/Users/epacuit/Dropbox/code/voting-scripts/pref_voting/test.ipynb#Y202sZmlsZQ%3D%3D?line=7'>8</a>\u001b[0m baldwin\u001b[39m.\u001b[39mdisplay(new_prof)\n",
      "File \u001b[0;32m~/Dropbox/code/voting-scripts/pref_voting/pref_voting/voting_method.py:57\u001b[0m, in \u001b[0;36mVotingMethod.display\u001b[0;34m(self, edata, curr_cands, cmap, **kwargs)\u001b[0m\n\u001b[1;32m     51\u001b[0m \u001b[39m\u001b[39m\u001b[39m\"\"\"\u001b[39;00m\n\u001b[1;32m     52\u001b[0m \u001b[39mDisplay the winning set of candidates.\u001b[39;00m\n\u001b[1;32m     53\u001b[0m \u001b[39m\"\"\"\u001b[39;00m\n\u001b[1;32m     55\u001b[0m cmap \u001b[39m=\u001b[39m cmap \u001b[39mif\u001b[39;00m cmap \u001b[39mis\u001b[39;00m \u001b[39mnot\u001b[39;00m \u001b[39mNone\u001b[39;00m \u001b[39melse\u001b[39;00m edata\u001b[39m.\u001b[39mcmap\n\u001b[0;32m---> 57\u001b[0m ws \u001b[39m=\u001b[39m \u001b[39mself\u001b[39;49m\u001b[39m.\u001b[39;49m\u001b[39m__call__\u001b[39;49m(edata, curr_cands \u001b[39m=\u001b[39;49m curr_cands, \u001b[39m*\u001b[39;49m\u001b[39m*\u001b[39;49mkwargs)\n\u001b[1;32m     59\u001b[0m \u001b[39mif\u001b[39;00m ws \u001b[39mis\u001b[39;00m \u001b[39mNone\u001b[39;00m:  \u001b[39m# some voting methods, such as ``ranked_pairs_with_test``, may return None if it is taking long to compute the winner.\u001b[39;00m\n\u001b[1;32m     60\u001b[0m     \u001b[39mprint\u001b[39m(\u001b[39mf\u001b[39m\u001b[39m\"\u001b[39m\u001b[39m{\u001b[39;00m\u001b[39mself\u001b[39m\u001b[39m.\u001b[39mname\u001b[39m}\u001b[39;00m\u001b[39m winning set is not available\u001b[39m\u001b[39m\"\u001b[39m)\n",
      "File \u001b[0;32m~/Dropbox/code/voting-scripts/pref_voting/pref_voting/voting_method.py:32\u001b[0m, in \u001b[0;36mVotingMethod.__call__\u001b[0;34m(self, edata, curr_cands, **kwargs)\u001b[0m\n\u001b[1;32m     30\u001b[0m \u001b[39mdef\u001b[39;00m \u001b[39m__call__\u001b[39m(\u001b[39mself\u001b[39m, edata, curr_cands \u001b[39m=\u001b[39m \u001b[39mNone\u001b[39;00m, \u001b[39m*\u001b[39m\u001b[39m*\u001b[39mkwargs):\n\u001b[0;32m---> 32\u001b[0m     \u001b[39mreturn\u001b[39;00m \u001b[39mself\u001b[39;49m\u001b[39m.\u001b[39;49mvm(edata, curr_cands \u001b[39m=\u001b[39;49m curr_cands, \u001b[39m*\u001b[39;49m\u001b[39m*\u001b[39;49mkwargs)\n",
      "File \u001b[0;32m~/Dropbox/code/voting-scripts/pref_voting/pref_voting/iterative_methods.py:906\u001b[0m, in \u001b[0;36mbaldwin\u001b[0;34m(profile, curr_cands)\u001b[0m\n\u001b[1;32m    903\u001b[0m all_num_cands \u001b[39m=\u001b[39m profile\u001b[39m.\u001b[39mnum_cands   \n\u001b[1;32m    904\u001b[0m candidates \u001b[39m=\u001b[39m profile\u001b[39m.\u001b[39mcandidates \u001b[39mif\u001b[39;00m curr_cands \u001b[39mis\u001b[39;00m \u001b[39mNone\u001b[39;00m \u001b[39melse\u001b[39;00m curr_cands\n\u001b[0;32m--> 906\u001b[0m rcounts \u001b[39m=\u001b[39m profile\u001b[39m.\u001b[39;49m_rcounts \u001b[39m# get all the ranking data\u001b[39;00m\n\u001b[1;32m    907\u001b[0m rankings \u001b[39m=\u001b[39m profile\u001b[39m.\u001b[39m_rankings \u001b[39mif\u001b[39;00m curr_cands \u001b[39mis\u001b[39;00m \u001b[39mNone\u001b[39;00m \u001b[39melse\u001b[39;00m _find_updated_profile(profile\u001b[39m.\u001b[39m_rankings, np\u001b[39m.\u001b[39marray([c \u001b[39mfor\u001b[39;00m c \u001b[39min\u001b[39;00m profile\u001b[39m.\u001b[39mcandidates \u001b[39mif\u001b[39;00m c \u001b[39mnot\u001b[39;00m \u001b[39min\u001b[39;00m curr_cands]), all_num_cands)\n\u001b[1;32m    909\u001b[0m cands_to_ignore \u001b[39m=\u001b[39m np\u001b[39m.\u001b[39mempty(\u001b[39m0\u001b[39m) \u001b[39mif\u001b[39;00m curr_cands \u001b[39mis\u001b[39;00m \u001b[39mNone\u001b[39;00m \u001b[39melse\u001b[39;00m np\u001b[39m.\u001b[39marray([c \u001b[39mfor\u001b[39;00m c \u001b[39min\u001b[39;00m profile\u001b[39m.\u001b[39mcandidates \u001b[39mif\u001b[39;00m c \u001b[39mnot\u001b[39;00m \u001b[39min\u001b[39;00m curr_cands])\n",
      "\u001b[0;31mAttributeError\u001b[0m: 'ProfileWithTies' object has no attribute '_rcounts'"
     ]
    }
   ],
   "source": [
    "for t in range(1000): \n",
    "    prof = generate_profile(4, 11)\n",
    "    prof_w_t = prof.to_profile_with_ties()\n",
    "    new_prof = ProfileWithTies([r.rmap for r in prof_w_t.rankings] + [{0:1}]*2, candidates=prof_w_t.candidates)\n",
    "    new_prof.use_extended_strict_preference()\n",
    "    baldwin.display(prof)\n",
    "    baldwin.display(prof_w_t) \n",
    "    baldwin.display(new_prof)"
   ]
  },
  {
   "cell_type": "code",
   "execution_count": 4,
   "id": "052b45df",
   "metadata": {},
   "outputs": [
    {
     "name": "stdout",
     "output_type": "stream",
     "text": [
      "409600\n",
      "CPU times: user 20.4 s, sys: 1.51 s, total: 21.9 s\n",
      "Wall time: 22 s\n"
     ]
    }
   ],
   "source": [
    "%%time \n",
    "\n",
    "uprofs = pickle.load(open('test_uprofs/evaluation_util_profs_1_6_11_uniform.pkl', 'rb'))\n",
    "\n",
    "print(len(uprofs))"
   ]
  },
  {
   "cell_type": "code",
   "execution_count": 5,
   "id": "1b4c4872",
   "metadata": {},
   "outputs": [
    {
     "name": "stdout",
     "output_type": "stream",
     "text": [
      "CPU times: user 26.7 s, sys: 1.19 s, total: 27.9 s\n",
      "Wall time: 27.9 s\n"
     ]
    }
   ],
   "source": [
    "%%time \n",
    "\n",
    "pickle.dump(uprofs, open('test_uprofs/evaluation_util_profs_1_6_11_uniform.pkl', 'wb'))\n"
   ]
  },
  {
   "cell_type": "code",
   "execution_count": 6,
   "id": "a06f0fc4",
   "metadata": {},
   "outputs": [
    {
     "name": "stdout",
     "output_type": "stream",
     "text": [
      "CPU times: user 53.4 s, sys: 1.26 s, total: 54.6 s\n",
      "Wall time: 54.8 s\n"
     ]
    }
   ],
   "source": [
    "%%time \n",
    "\n",
    "write_utility_profiles_to_json(uprofs, 'test_uprofs/evaluation_util_profs_1_6_11_uniform.json')\n"
   ]
  },
  {
   "cell_type": "code",
   "execution_count": 7,
   "id": "acca7e9e",
   "metadata": {},
   "outputs": [
    {
     "name": "stdout",
     "output_type": "stream",
     "text": [
      "409600\n",
      "CPU times: user 56 s, sys: 1.94 s, total: 57.9 s\n",
      "Wall time: 58.2 s\n"
     ]
    }
   ],
   "source": [
    "%%time \n",
    "\n",
    "uprofs = read_utility_profiles_from_json('test_uprofs/evaluation_util_profs_1_6_11_uniform.json')\n",
    "\n",
    "print(len(uprofs))"
   ]
  },
  {
   "cell_type": "code",
   "execution_count": null,
   "id": "26d3ec67",
   "metadata": {},
   "outputs": [],
   "source": [
    "uprof = generate_utility_profile_uniform(4, 5)\n",
    "uprof.display()\n",
    "for u in uprof.utilities: \n",
    "    print(u.as_dict())\n",
    "\n",
    "print(uprof.as_dict())\n",
    "\n",
    "# save dict to json file\n",
    "\n",
    "\n",
    "with open('uprof.json', 'w') as f:\n",
    "    json.dump(uprof.as_dict(), f)\n"
   ]
  },
  {
   "cell_type": "code",
   "execution_count": null,
   "id": "5281bec7",
   "metadata": {},
   "outputs": [],
   "source": [
    "with open('uprof.json', 'r') as f:\n",
    "    uprof_json = json.load(f)\n",
    "\n",
    "    uprof = UtilityProfile.from_json(uprof_json)\n",
    "    uprof.display()\n",
    "\n",
    "    for u in uprof.utilities:\n",
    "        for c in uprof.domain:\n",
    "            print(u(c))\n",
    "        print(u.as_dict())"
   ]
  },
  {
   "cell_type": "code",
   "execution_count": null,
   "id": "add95841",
   "metadata": {},
   "outputs": [],
   "source": []
  },
  {
   "cell_type": "code",
   "execution_count": null,
   "id": "1a09cfb0",
   "metadata": {},
   "outputs": [],
   "source": [
    "def test(i): \n",
    "    #np.random.seed(0)\n",
    "    return np.random.random()\n",
    "\n",
    "pool = Pool(4)\n",
    "\n",
    "xs = pool.map(test, range(8))"
   ]
  },
  {
   "cell_type": "code",
   "execution_count": null,
   "id": "b3f30dda",
   "metadata": {},
   "outputs": [],
   "source": [
    "print(xs)"
   ]
  },
  {
   "cell_type": "code",
   "execution_count": null,
   "id": "6b98be30",
   "metadata": {},
   "outputs": [],
   "source": [
    "print(len(xs) == len(list(set(xs))))"
   ]
  },
  {
   "cell_type": "code",
   "execution_count": null,
   "id": "64b9d6f0",
   "metadata": {},
   "outputs": [],
   "source": []
  },
  {
   "cell_type": "code",
   "execution_count": null,
   "id": "dbdc1087",
   "metadata": {},
   "outputs": [],
   "source": []
  },
  {
   "cell_type": "code",
   "execution_count": null,
   "id": "c3d16129",
   "metadata": {},
   "outputs": [],
   "source": [
    "a=0\n",
    "b=1\n",
    "c=2\n",
    "d=3\n",
    "mg = MarginGraph(\n",
    "    [a,b,c,d],\n",
    "    [\n",
    "        (a,d,1),\n",
    "        (a,c,9),\n",
    "        (b,d,3),\n",
    "        (b,a,11),\n",
    "        (c,b,7),\n",
    "        (d,c,5)\n",
    "    ],\n",
    "    cmap={a:\"a\",b:\"b\", c:'c', d:'d'}\n",
    ")\n",
    "mg.display()\n",
    "copeland.display(mg)\n",
    "minimax.display(mg)\n",
    "beat_path.display(mg)\n",
    "ranked_pairs.display(mg)\n",
    "split_cycle.display(mg)"
   ]
  },
  {
   "cell_type": "code",
   "execution_count": null,
   "id": "6c2631e2",
   "metadata": {},
   "outputs": [],
   "source": [
    "prof = Profile(\n",
    "    [\n",
    "        [a,b,c,d],\n",
    "        [b,c,d,a],\n",
    "        [a,b,c,d],\n",
    "        [a,b,d,c]\n",
    "\n",
    "    ],\n",
    "    cmap={a:\"a\",b:\"b\", c:'c', d:'d'}\n",
    ")\n",
    "prof.display()\n",
    "prof.display_margin_graph()"
   ]
  },
  {
   "cell_type": "code",
   "execution_count": null,
   "id": "32106609",
   "metadata": {},
   "outputs": [],
   "source": [
    "prof = Profile(\n",
    "    [\n",
    "        [a,b,c,d],\n",
    "        [b,c,d,a],\n",
    "        [c,d,a,b],\n",
    "        [d,a,b,c]\n",
    "\n",
    "    ],\n",
    "    cmap={a:\"a\",b:\"b\", c:'c', d:'d'}\n",
    ")\n",
    "prof.display()\n",
    "prof.display_margin_graph()"
   ]
  },
  {
   "cell_type": "code",
   "execution_count": null,
   "id": "1f8ea543",
   "metadata": {},
   "outputs": [],
   "source": [
    "prof = Profile(\n",
    "    [\n",
    "        [b, a,d , c],\n",
    "        [d, b, a, c],\n",
    "        [a, c, b, d],\n",
    "        [d, c, b, a], \n",
    "        [d, c, b, a]\n",
    "\n",
    "    ],\n",
    "    rcounts=[2, 1, 3, 2, 1],\n",
    "    cmap={a:\"a\",b:\"b\", c:'c', d:'d'}\n",
    ")\n",
    "prof.display()\n",
    "prof.display_margin_graph()\n",
    "mg = prof.margin_graph()\n",
    "\n",
    "mg.display_with_defeat(beat_path_defeat(mg))"
   ]
  },
  {
   "cell_type": "code",
   "execution_count": null,
   "id": "5ed55656",
   "metadata": {},
   "outputs": [],
   "source": [
    "prof = Profile(\n",
    "    [\n",
    "        [b, a,d , c],\n",
    "        [d, b, a, c],\n",
    "        [a, c, b, d],\n",
    "        [d, c, b, a], \n",
    "        [d, b, c, a]\n",
    "\n",
    "    ],\n",
    "    rcounts=[2, 1, 3, 2, 1],\n",
    "    cmap={a:\"a\",b:\"b\", c:'c', d:'d'}\n",
    ")\n",
    "prof.display()\n",
    "prof.display_margin_graph()\n",
    "mg = prof.margin_graph()\n",
    "\n",
    "mg.display_with_defeat(beat_path_defeat(mg))"
   ]
  },
  {
   "cell_type": "code",
   "execution_count": null,
   "id": "0d9ba95c",
   "metadata": {},
   "outputs": [],
   "source": [
    "e=4\n",
    "prof = Profile(\n",
    "    [\n",
    "        [e, c, b, a, d],\n",
    "        [c, b, a, d, e],\n",
    "        [a, d, b, e, c]\n",
    "    ],\n",
    "         \n",
    "\n",
    "    rcounts=[2, 1, 1],\n",
    "    cmap={a:\"a\",b:\"b\", c:'c', d:'d',e:'e'}\n",
    ")\n",
    "prof.display()\n",
    "maj_graph = prof.majority_graph()\n",
    "maj_graph.display()\n",
    "copeland.display(prof)"
   ]
  },
  {
   "cell_type": "code",
   "execution_count": null,
   "id": "36660e01",
   "metadata": {},
   "outputs": [],
   "source": [
    "e=4\n",
    "prof = Profile(\n",
    "    [\n",
    "        [e, c, b, a, d],\n",
    "        [c, b, a, d, e],\n",
    "        [a, d, b, e, c],\n",
    "        [c, e, d, b, a]\n",
    "    ],\n",
    "         \n",
    "\n",
    "    rcounts=[2, 1, 1, 1],\n",
    "    cmap={a:\"a\",b:\"b\", c:'c', d:'d',e:'e'}\n",
    ")\n",
    "prof.display()\n",
    "maj_graph = prof.majority_graph()\n",
    "maj_graph.display()\n",
    "copeland.display(prof)"
   ]
  },
  {
   "cell_type": "code",
   "execution_count": null,
   "id": "c7bd885f",
   "metadata": {},
   "outputs": [],
   "source": [
    "e=4\n",
    "prof = Profile(\n",
    "    [\n",
    "        [e, c, b, a, d],\n",
    "        [c, b, a, d, e],\n",
    "        [a, d, b, e, c],\n",
    "        [c, e, d, b, a]\n",
    "    ],\n",
    "         \n",
    "\n",
    "    rcounts=[2, 1, 1, 1],\n",
    "    cmap={a:\"a\",b:\"b\", c:'c', d:'d',e:'e'}\n",
    ")\n",
    "prof.display()\n",
    "maj_graph = prof.majority_graph()\n",
    "maj_graph.display()\n",
    "copeland.display(prof)"
   ]
  },
  {
   "cell_type": "code",
   "execution_count": null,
   "id": "0a613e8c",
   "metadata": {},
   "outputs": [],
   "source": [
    "m = _Mapping({0:1, 1:2}, val_map = {1:\"A\", 2:\"B\"})\n",
    "\n",
    "print(m)\n",
    "\n",
    "pickle.dump(m, open(\"mapping.p\", \"wb\"))"
   ]
  },
  {
   "cell_type": "code",
   "execution_count": null,
   "id": "5ab74e07",
   "metadata": {},
   "outputs": [],
   "source": [
    "for i in range(100):\n",
    "    print(np.random.choice([0, 1, 2], size=10))"
   ]
  },
  {
   "cell_type": "code",
   "execution_count": null,
   "id": "24814dab",
   "metadata": {},
   "outputs": [],
   "source": [
    "print(10)"
   ]
  },
  {
   "cell_type": "code",
   "execution_count": null,
   "id": "bd0fb39d",
   "metadata": {},
   "outputs": [],
   "source": [
    "\n",
    "cand_cov = np.array([[0.5, 0.0], [0.0, 0.5]])\n",
    "voter_cov  = np.array([[0.5, 0.0], [0.0, 0.5]])\n",
    "sprof = generate_spatial_profile_polarized_cands_randomly_polarized_voters(\n",
    "    [\n",
    "        (np.array([0.0, 0.0]), cand_cov, 2), \n",
    "        (np.array([1.0, 1.0]), cand_cov, 2), \n",
    "        (np.array([-1.0, -1.0]), cand_cov, 2)], \n",
    "    1000,\n",
    "    [\n",
    "        (np.array([-1.0, -1.0]), voter_cov, 0.0), \n",
    "        (np.array([1.0, 1.0]), voter_cov, 0.0), \n",
    "        (np.array([0.0, 0.0]), voter_cov, 1.0)]\n",
    ")\n",
    "\n",
    "sprof.view()"
   ]
  },
  {
   "cell_type": "code",
   "execution_count": null,
   "id": "0055dff0",
   "metadata": {},
   "outputs": [],
   "source": [
    "prof = Profile([[0,1], [0,1]])\n",
    "prof.display()\n",
    "plurality_with_runoff_put.display(prof)"
   ]
  },
  {
   "cell_type": "code",
   "execution_count": null,
   "id": "523fbd4e",
   "metadata": {},
   "outputs": [],
   "source": [
    "cond_eff_df = condorcet_efficiency_data([bracket_voting], num_trials = 100, numbers_of_candidates=[4, 5], numbers_of_voters=[1001], probmods = [\"Spatial\"], use_parallel=True)\n",
    "\n",
    "cond_eff_df"
   ]
  },
  {
   "cell_type": "code",
   "execution_count": null,
   "id": "6de8df63",
   "metadata": {},
   "outputs": [],
   "source": [
    "prof = generate_profile(3, 4, \"Spatial\", (3, quadratic_utility))\n",
    "\n",
    "prof.display()"
   ]
  },
  {
   "cell_type": "code",
   "execution_count": null,
   "id": "b5b6a5a8",
   "metadata": {},
   "outputs": [],
   "source": [
    "data_for_df = {\n",
    "    \"probmod_param\": [(2, None), (3, quadratic_utility)]\n",
    "}\n",
    "\n",
    "df = pd.DataFrame(data_for_df)\n",
    "\n",
    "df"
   ]
  },
  {
   "cell_type": "code",
   "execution_count": null,
   "id": "ebc342ee",
   "metadata": {},
   "outputs": [],
   "source": [
    "prof = generate_profile(3, 10)\n",
    "\n",
    "prof.plurality_scores([0])"
   ]
  },
  {
   "cell_type": "code",
   "execution_count": null,
   "id": "621ae2ab",
   "metadata": {},
   "outputs": [],
   "source": [
    "prof = generate_truncated_profile(4, 5)\n",
    "prof.display()\n",
    "\n",
    "print([r for r in prof.rankings_as_dicts_counts])"
   ]
  },
  {
   "cell_type": "code",
   "execution_count": null,
   "id": "945c3d3b",
   "metadata": {},
   "outputs": [],
   "source": [
    "prof = generate_profile(3, 5, probmod=\"MALLOWS\", probmod_param=0.8)\n",
    "prof.display()"
   ]
  },
  {
   "cell_type": "code",
   "execution_count": null,
   "id": "b1fd5206",
   "metadata": {},
   "outputs": [],
   "source": [
    "def generate_utility_profile_normal(num_candidates, num_voters, std = 0.1, normalize = None, num_profiles = 1):\n",
    "    mean_utilities = {c: np.random.uniform(0, 1) for c in range(num_candidates)}\n",
    "    print(mean_utilities)\n",
    "    cand_utils = {c: np.random.normal(mean_utilities[c], std, size=(num_profiles, num_voters)) for c in range(num_candidates)} \n",
    "    \n",
    "    print(cand_utils)\n",
    "    if normalize == \"range\": \n",
    "        uprofs = [UtilityProfile([{c: cand_utils[c][pidx][vidx] \n",
    "                                   for c in range(num_candidates)} \n",
    "                                   for vidx in range(num_voters)]).normalize_by_range() \n",
    "                                   for pidx in range(num_profiles)]\n",
    "    elif normalize == \"score\":\n",
    "        uprofs = [UtilityProfile([{c: cand_utils[c][pidx][vidx] \n",
    "                                   for c in range(num_candidates)} \n",
    "                                   for vidx in range(num_voters)]).normalize_by_standard_score() \n",
    "                                   for pidx in range(num_profiles)]\n",
    "    else: # do not normalize\n",
    "        uprofs = [UtilityProfile([{c: cand_utils[c][pidx][vidx] \n",
    "                                   for c in range(num_candidates)} \n",
    "                                   for vidx in range(num_voters)]) \n",
    "                                   for pidx in range(num_profiles)]\n",
    "\n",
    "\n",
    "    return uprofs if num_profiles > 1 else uprofs[0]\n"
   ]
  },
  {
   "cell_type": "code",
   "execution_count": null,
   "id": "c9e0db7c",
   "metadata": {},
   "outputs": [],
   "source": [
    "uprofs = generate_utility_profile_normal(4, 5, num_profiles = 2)\n",
    "\n",
    "for uprof in uprofs: \n",
    "    uprof.display()"
   ]
  },
  {
   "cell_type": "code",
   "execution_count": null,
   "id": "d38413fc",
   "metadata": {},
   "outputs": [],
   "source": [
    "def generate_utility_profile_uniform2(num_candidates, num_voters, num_profiles = 1):\n",
    "    \"\"\"\n",
    "    Generate a utility profile where each voter assigns a random number between 0 and 1 to each candidate.\n",
    "\n",
    "    Args:   \n",
    "        num_candidates (int): The number of candidates.\n",
    "        num_voters (int): The number of voters.\n",
    "    \n",
    "    Returns:\n",
    "        UtilityProfile: A utility profile.\n",
    "\n",
    "    \"\"\"\n",
    "\n",
    "    cand_utils = np.random.uniform(size=(num_profiles, num_voters, num_candidates))\n",
    "\n",
    "    uprofs = [UtilityProfile([{c: cand_utils[pidx][v][c] \n",
    "                               for c in range(num_candidates)} \n",
    "                               for v in range(num_voters)]) \n",
    "                               for pidx in range(num_profiles)]\n",
    "    \n",
    "    return uprofs if num_profiles > 1 else uprofs[0]\n"
   ]
  },
  {
   "cell_type": "code",
   "execution_count": null,
   "id": "6e69d37b",
   "metadata": {},
   "outputs": [],
   "source": [
    "%timeit np.random.uniform(size=(1000, 100, 10))"
   ]
  },
  {
   "cell_type": "code",
   "execution_count": null,
   "id": "3d9993a1",
   "metadata": {},
   "outputs": [],
   "source": [
    "%timeit [np.random.uniform(size=(1, 100, 10)) for _ in range(1000)]"
   ]
  },
  {
   "cell_type": "code",
   "execution_count": null,
   "id": "aed8c588",
   "metadata": {},
   "outputs": [],
   "source": [
    "%timeit [generate_utility_profile_uniform2(10, 100) for _ in range(100)]"
   ]
  },
  {
   "cell_type": "code",
   "execution_count": null,
   "id": "bf09e09f",
   "metadata": {},
   "outputs": [],
   "source": [
    "%timeit generate_utility_profile_uniform2(10, 100, num_profiles = 100)"
   ]
  },
  {
   "cell_type": "code",
   "execution_count": null,
   "id": "0fc56c54",
   "metadata": {},
   "outputs": [],
   "source": [
    "uprofs = generate_utility_profile_uniform2(5, 4, num_profiles = 4)\n",
    "\n",
    "for uprof in uprofs: \n",
    "    uprof.display()\n",
    "    print()"
   ]
  },
  {
   "cell_type": "code",
   "execution_count": null,
   "id": "55865adc",
   "metadata": {},
   "outputs": [],
   "source": [
    "def np_norm(x: float32[:]):\n",
    "    return np.linalg.norm(x)\n",
    " \n",
    "@njit\n",
    "def np_norm_jit(x: float32[:]):\n",
    "    return np.linalg.norm(x)\n",
    " \n",
    "@njit(float32(float32[:]), fastmath=True)\n",
    "def np_norm_jit_full(x):\n",
    "    return np.linalg.norm(x)\n",
    "\n",
    "@njit\n",
    "def linear_utility2(v_pos: float32[:], c_pos: float32[:]):\n",
    "    \"\"\"\n",
    "    The utility of the voter for the candidate is negative of the difference in positions. \n",
    "\n",
    "    Args:   \n",
    "        v_pos (numpy array): The position(s) of the voter.\n",
    "        c_pos (numpy array): The position(s) of the candidate.  \n",
    "    Returns:\n",
    "        float: The utility of the candidate to the voter.\n",
    "    \"\"\"\n",
    "    return -np.linalg.norm(v_pos - c_pos)\n"
   ]
  },
  {
   "cell_type": "code",
   "execution_count": null,
   "id": "63b032a0",
   "metadata": {},
   "outputs": [],
   "source": [
    "%timeit linear_utility2(np.array([0.0, 1.0]), np.array([1.0, 1.0]))"
   ]
  },
  {
   "cell_type": "code",
   "execution_count": null,
   "id": "0f34f840",
   "metadata": {},
   "outputs": [],
   "source": [
    "sprofs = generate_spatial_profile(5, 5, 3, num_profiles= 1000)\n"
   ]
  },
  {
   "cell_type": "code",
   "execution_count": null,
   "id": "cd890078",
   "metadata": {},
   "outputs": [],
   "source": [
    "%timeit [sprof.to_utility_profile(utility_function=linear_utility) for sprof in sprofs]"
   ]
  },
  {
   "cell_type": "code",
   "execution_count": null,
   "id": "02550951",
   "metadata": {},
   "outputs": [],
   "source": [
    "%timeit [sprof.to_utility_profile(utility_function=linear_utility2) for sprof in sprofs]"
   ]
  },
  {
   "cell_type": "code",
   "execution_count": null,
   "id": "c9f34e95",
   "metadata": {},
   "outputs": [],
   "source": [
    "%timeit linear_utility(np.array([0.0, 1.0]), np.array([1.0, 1.0]))"
   ]
  },
  {
   "cell_type": "code",
   "execution_count": null,
   "id": "7cc264aa",
   "metadata": {},
   "outputs": [],
   "source": [
    "%timeit quadratic_utility(np.array([0, 1]), np.array([1, 1]))"
   ]
  },
  {
   "cell_type": "code",
   "execution_count": null,
   "id": "4b126ab6",
   "metadata": {},
   "outputs": [],
   "source": [
    "%timeit linear_utility(np.array([0, 1]), np.array([1, 1]))"
   ]
  },
  {
   "cell_type": "code",
   "execution_count": null,
   "id": "7302f812",
   "metadata": {},
   "outputs": [],
   "source": [
    "voter_mean = np.array([0,0])\n",
    "voter_cov = np.eye(2)\n",
    "num_voters = 3\n",
    "num_profiles = 5\n",
    "voter_sample1 = np.random.multivariate_normal(voter_mean, voter_cov, size=(num_profiles, num_voters))\n",
    "\n",
    "voter_sample2 = np.random.multivariate_normal(voter_mean, voter_cov, size=(num_profiles, num_voters))\n",
    "\n",
    "voter_sample3 = [list(voter_sample1[pidx]) + list(voter_sample2[pidx]) for pidx in range(num_profiles)]\n",
    "\n",
    "for v in voter_sample3:\n",
    "    print(v)\n",
    "    print()\n"
   ]
  },
  {
   "cell_type": "code",
   "execution_count": null,
   "id": "8f77941a",
   "metadata": {},
   "outputs": [],
   "source": [
    "def generate_spatial_profile_polarized2(cand_clusters, voter_clusters, num_profiles = 1):\n",
    "\n",
    "    cand_samples = list()\n",
    "    total_num_cands = 0\n",
    "    for cand_cluster in cand_clusters:\n",
    "        cand_mean, cand_cov, num_cands = cand_cluster\n",
    "        total_num_cands += num_cands\n",
    "        cluster_samples = np.random.multivariate_normal(cand_mean, cand_cov, \n",
    "                                                        size=(num_profiles,num_cands))\n",
    "        if len(cand_samples) == 0:\n",
    "            cand_samples = cluster_samples\n",
    "        else:\n",
    "            #cand_samples = [list(cand_samples[pidx]) + list(cluster_samples[pidx]) \n",
    "            #                for pidx in range(num_profiles)]\n",
    "            cand_samples = np.concatenate([cand_samples, cluster_samples], axis=1)\n",
    "\n",
    "    voter_samples = list()\n",
    "    total_num_voters = 0\n",
    "    for voter_cluster in voter_clusters:\n",
    "        voter_mean, voter_cov, num_voters = voter_cluster\n",
    "        total_num_voters += num_voters\n",
    "        cluster_samples = np.random.multivariate_normal(voter_mean, voter_cov, \n",
    "                                                        size=(num_profiles,num_voters))\n",
    "        if len(voter_samples) == 0:\n",
    "            voter_samples = cluster_samples\n",
    "        else:\n",
    "            voter_samples = np.concatenate([voter_samples, cluster_samples], axis=1) \n",
    "\n",
    "    \n",
    "    profs = [SpatialProfile({cidx: cand_samples[pidx][cidx]\n",
    "                           for cidx in range(total_num_cands)},\n",
    "                           {vidx: voter_samples[pidx][vidx]\n",
    "                            for vidx in range(total_num_voters)}) \n",
    "                            for pidx in range(num_profiles)]\n",
    "    \n",
    "    return profs[0] if num_profiles == 1 else profs"
   ]
  },
  {
   "cell_type": "code",
   "execution_count": null,
   "id": "093cc57d",
   "metadata": {},
   "outputs": [],
   "source": [
    "profs = generate_spatial_profile(5, 5, 3, num_profiles= 5)\n",
    "for p in profs: \n",
    "    p.display()"
   ]
  },
  {
   "cell_type": "code",
   "execution_count": null,
   "id": "d10015af",
   "metadata": {},
   "outputs": [],
   "source": [
    "elections = np.concatenate([np.array([[[0,1], [0, 3]], [[2,1], [1, 3]]]), np.array([[[1,0], [1,1]], [[5,0], [1,5]]])], axis=1)\n",
    "\n",
    "for e in elections: \n",
    "    print(e)\n",
    "    print()"
   ]
  },
  {
   "cell_type": "code",
   "execution_count": null,
   "id": "c4c102d4",
   "metadata": {},
   "outputs": [],
   "source": [
    "cand_clusters = [((0,0), np.eye(2), 3), ((1,1), np.eye(2), 3)]\n",
    "voter_clusters = [((0,0), np.eye(2), 3), ((1,1), np.eye(2), 3)]\n",
    "prof = generate_spatial_profile_polarized(cand_clusters, voter_clusters)\n",
    "prof2 = generate_spatial_profile_polarized2(cand_clusters, voter_clusters)\n",
    "prof2.display()"
   ]
  },
  {
   "cell_type": "code",
   "execution_count": null,
   "id": "dac7b071",
   "metadata": {},
   "outputs": [],
   "source": [
    "%timeit [generate_spatial_profile_polarized(cand_clusters, voter_clusters) for _ in range(1000)]"
   ]
  },
  {
   "cell_type": "code",
   "execution_count": null,
   "id": "602c8528",
   "metadata": {},
   "outputs": [],
   "source": [
    "%timeit generate_spatial_profile_polarized2(cand_clusters, voter_clusters, num_profiles = 1000)"
   ]
  },
  {
   "cell_type": "code",
   "execution_count": null,
   "id": "a1ec9428",
   "metadata": {},
   "outputs": [],
   "source": [
    "%timeit generate_spatial_profile_polarized2(cand_clusters, voter_clusters, num_profiles = 1000)"
   ]
  },
  {
   "cell_type": "code",
   "execution_count": null,
   "id": "4c565cf0",
   "metadata": {},
   "outputs": [],
   "source": [
    "generate_spatial_profile_polarized2([((0,0), np.eye(2), 3), ((1,1), np.eye(2), 3)], \n",
    "                                   [((0,0), np.eye(2), 3), ((1,1), np.eye(2), 3)])"
   ]
  },
  {
   "cell_type": "code",
   "execution_count": null,
   "id": "3a064943",
   "metadata": {},
   "outputs": [],
   "source": [
    "%timeit [np.random.multivariate_normal(voter_mean, voter_cov, size=num_voters) for t in range(100)]"
   ]
  },
  {
   "cell_type": "code",
   "execution_count": null,
   "id": "2cea8f8a",
   "metadata": {},
   "outputs": [],
   "source": [
    "%timeit np.random.multivariate_normal(voter_mean, voter_cov, size=(100, num_voters))"
   ]
  },
  {
   "cell_type": "code",
   "execution_count": null,
   "id": "49478a32",
   "metadata": {},
   "outputs": [],
   "source": []
  },
  {
   "cell_type": "code",
   "execution_count": null,
   "id": "93d82055",
   "metadata": {},
   "outputs": [],
   "source": [
    "# Simple Stable Voting \n",
    "def _simple_stable_voting(edata, \n",
    "                          curr_cands, \n",
    "                          strength_function,\n",
    "                          mem_sv_winners, \n",
    "                          sorted_matches):\n",
    "    \n",
    "    sv_winners = list()\n",
    "        \n",
    "    if len(curr_cands) == 1: \n",
    "        mem_sv_winners[tuple(curr_cands)] = curr_cands\n",
    "        return curr_cands, mem_sv_winners\n",
    "    \n",
    "    margin_witnessing_win = -math.inf\n",
    "\n",
    "    for a, b, s in sorted_matches:\n",
    "        if s < margin_witnessing_win: \n",
    "            break\n",
    "        if a not in sv_winners: \n",
    "            cands_minus_b = [c for c in curr_cands if c != b]\n",
    "            cands_minus_b_key = tuple(sorted(cands_minus_b))\n",
    "            if cands_minus_b_key not in mem_sv_winners.keys(): \n",
    "                ws, mem_sv_winners = _simple_stable_voting(edata, \n",
    "                                                           curr_cands = cands_minus_b,\n",
    "                                                           strength_function = strength_function,\n",
    "                                                           mem_sv_winners = mem_sv_winners, \n",
    "                                                           sorted_matches = [(a, c, s) for a, c, s in sorted_matches if c != b and a != b])\n",
    "                mem_sv_winners[cands_minus_b_key] = ws\n",
    "            else: \n",
    "                ws = mem_sv_winners[cands_minus_b_key]\n",
    "            if a in ws:\n",
    "                sv_winners.append(a)\n",
    "                margin_witnessing_win = s\n",
    "\n",
    "    return sv_winners, mem_sv_winners\n",
    "    \n",
    "@vm(name = \"Simple Stable Voting\")\n",
    "def simple_stable_voting(edata, curr_cands = None, strength_function = None): \n",
    "   \n",
    "    \n",
    "    curr_cands = edata.candidates if curr_cands is None else curr_cands\n",
    "    strength_function = edata.margin if strength_function is None else strength_function  \n",
    "\n",
    "    matches = [(a, b, strength_function(a, b)) for a in curr_cands for b in curr_cands if a != b]\n",
    "    sorted_matches = sorted(matches, reverse=True, key=lambda m_w_weight: m_w_weight[2])\n",
    "    \n",
    "    return sorted(_simple_stable_voting(edata, \n",
    "                                        curr_cands = curr_cands, \n",
    "                                        strength_function = strength_function,\n",
    "                                        mem_sv_winners = {}, \n",
    "                                        sorted_matches = sorted_matches)[0])\n"
   ]
  },
  {
   "cell_type": "code",
   "execution_count": null,
   "id": "70064149",
   "metadata": {},
   "outputs": [],
   "source": []
  },
  {
   "cell_type": "code",
   "execution_count": null,
   "id": "e30e127f",
   "metadata": {},
   "outputs": [],
   "source": []
  },
  {
   "cell_type": "code",
   "execution_count": null,
   "id": "bf489d92",
   "metadata": {},
   "outputs": [],
   "source": [
    "cov_m = generate_covariance_matrix(30)"
   ]
  },
  {
   "cell_type": "code",
   "execution_count": null,
   "id": "40016aea",
   "metadata": {},
   "outputs": [],
   "source": [
    "random_var = multivariate_normal(None, cov_m)"
   ]
  },
  {
   "cell_type": "code",
   "execution_count": null,
   "id": "2d4a22c7",
   "metadata": {},
   "outputs": [],
   "source": [
    "print(random_var.rvs())"
   ]
  },
  {
   "cell_type": "code",
   "execution_count": null,
   "id": "b4528a29",
   "metadata": {},
   "outputs": [],
   "source": [
    "%timeit [multivariate_normal(None, cov_m) for _ in range(100)]"
   ]
  },
  {
   "cell_type": "code",
   "execution_count": null,
   "id": "81214390",
   "metadata": {},
   "outputs": [],
   "source": [
    "random.permutation(range(10))\n"
   ]
  },
  {
   "cell_type": "code",
   "execution_count": null,
   "id": "9b462d59",
   "metadata": {},
   "outputs": [],
   "source": [
    "%timeit multivariate_normal(None, cov_m)"
   ]
  },
  {
   "cell_type": "code",
   "execution_count": null,
   "id": "206ae476",
   "metadata": {},
   "outputs": [],
   "source": [
    "%timeit [generate_edge_ordered_tournament_infinite_limit(30) for _ in range(100)]"
   ]
  },
  {
   "cell_type": "code",
   "execution_count": null,
   "id": "5b2dd1cb",
   "metadata": {},
   "outputs": [],
   "source": [
    "%timeit [generate_edge_ordered_tournament_infinite_limit(30, cov_matrix = cov_m) for _ in range(100)]"
   ]
  },
  {
   "cell_type": "code",
   "execution_count": null,
   "id": "131076d6",
   "metadata": {},
   "outputs": [],
   "source": [
    "random.uniform(0.001, 0.999)"
   ]
  },
  {
   "cell_type": "code",
   "execution_count": null,
   "id": "ed31cdc2",
   "metadata": {},
   "outputs": [],
   "source": [
    "def find_best_response(uprof, vm):\n",
    "\n",
    "    u0 = uprof.utilities[0]\n",
    "    prof = uprof.to_ranking_profile().to_linear_profile()\n",
    "    rankings = prof.rankings\n",
    "    ws = vm(prof)\n",
    "    eu_ws = np.average([u0(w) for w in ws])\n",
    "    best_rankings = list()\n",
    "    current_best_eu = eu_ws\n",
    "    for new_ranking in permutations(prof.candidates):\n",
    "        new_prof = Profile([new_ranking] + rankings[1:])\n",
    "        new_ws = vm(new_prof)\n",
    "        new_eu_ws = np.average([u0(w) for w in new_ws])\n",
    "        if new_eu_ws > current_best_eu:\n",
    "            current_best_eu = new_eu_ws\n",
    "            best_rankings = [new_ranking]\n",
    "        elif new_eu_ws == current_best_eu:\n",
    "            best_rankings.append(new_ranking)\n",
    "    return best_rankings\n"
   ]
  },
  {
   "cell_type": "code",
   "execution_count": null,
   "id": "cb92f59c",
   "metadata": {},
   "outputs": [],
   "source": [
    "uprof = generate_utility_profile_uniform(3, 4)\n",
    "\n",
    "uprof.display()\n",
    "\n",
    "prof = uprof.to_ranking_profile().to_linear_profile()\n",
    "prof.display()\n",
    "plurality.display(prof)\n",
    "find_best_response(uprof, plurality)"
   ]
  },
  {
   "cell_type": "code",
   "execution_count": null,
   "id": "09e68720",
   "metadata": {},
   "outputs": [],
   "source": []
  },
  {
   "cell_type": "code",
   "execution_count": null,
   "id": "77d516b6",
   "metadata": {},
   "outputs": [],
   "source": []
  },
  {
   "cell_type": "code",
   "execution_count": null,
   "id": "0ddf78b1",
   "metadata": {},
   "outputs": [],
   "source": []
  },
  {
   "cell_type": "code",
   "execution_count": null,
   "id": "1d93fe7b",
   "metadata": {},
   "outputs": [],
   "source": [
    "for t in range(1000): \n",
    "    prof = generate_profile(4, 5) \n",
    "    #prof.display()\n",
    "    c_ws = copeland(prof)\n",
    "    c_b_ws = copeland_borda(prof)\n",
    "    c_gb_ws = copeland_global_borda(prof)\n",
    "    if c_b_ws != c_gb_ws:\n",
    "        prof.display()\n",
    "        prof.display_margin_graph()\n",
    "        print(prof.borda_scores())\n",
    "        print(\"c_ws\", c_ws)\n",
    "        print(\"c_b_ws\", c_b_ws)\n",
    "        print(\"c_gb_ws\", c_gb_ws)"
   ]
  },
  {
   "cell_type": "code",
   "execution_count": null,
   "id": "3a8f1eeb",
   "metadata": {},
   "outputs": [],
   "source": [
    "df = condorcet_efficiency_data([plurality, split_cycle],\n",
    "    numbers_of_candidates=[3],\n",
    "    numbers_of_voters=[4],\n",
    "    probmods=[\"IC\"],\n",
    "    num_trials=10,\n",
    "    use_parallel=True,\n",
    "    num_cpus=5,\n",
    ")\n",
    "\n",
    "df"
   ]
  },
  {
   "cell_type": "code",
   "execution_count": null,
   "metadata": {},
   "outputs": [],
   "source": [
    "sp = generate_spatial_profile_polarized(\n",
    "    [(np.array([1,0]), generate_covariance(2, 0.5, 0), 3), \n",
    "    (np.array([-1,0]), generate_covariance(2, 0.5, 0), 3)],\n",
    "    [\n",
    "    (np.array([1,0]), generate_covariance(2, 0.5, 0), 10000),\n",
    "    (np.array([-1,0]), generate_covariance(2, 0.5, 0), 10000)]\n",
    "    \n",
    "    )\n",
    "\n",
    "\n",
    "\n",
    "sp.view()"
   ]
  },
  {
   "cell_type": "code",
   "execution_count": null,
   "id": "8e45d029",
   "metadata": {},
   "outputs": [],
   "source": [
    "sp = generate_spatial_profile_polarized(\n",
    "    [(np.array([1,1]), generate_covariance(2, 0.5, 0), 3), \n",
    "    (np.array([-1,-1]), generate_covariance(2, 0.5, 0), 3)],\n",
    "    [\n",
    "    (np.array([1,1]), generate_covariance(2, 0.5, 0), 10000),\n",
    "    (np.array([-1,-1]), generate_covariance(2, 0.5, 0), 10000)]\n",
    "    \n",
    "    )\n",
    "\n",
    "sp.view()"
   ]
  },
  {
   "cell_type": "code",
   "execution_count": null,
   "id": "84de7453",
   "metadata": {},
   "outputs": [],
   "source": [
    "x = np.random.random(100)\n",
    "y = np.random.random(100)\n",
    "\n",
    "\n",
    "print(\"np.average(x)* np.average(y)\", np.average(x) * np.average(y))\n",
    "print(\"np.average(x * y)\", np.average(x * y))\n",
    "print()\n",
    "\n",
    "print(\"np.average(x) / np.average(y)\", np.average(x) / np.average(y))\n",
    "print(\"np.average(x/y)\", np.average(x/y))\n",
    "print()\n",
    "\n",
    "print(\"np.average(x) + np.average(y)\", np.average(x) + np.average(y))\n",
    "print(\"np.average(x +  y)\", np.average(x + y))\n",
    "print()\n",
    "\n",
    "print(\"np.average(x) - np.average(y)\", np.average(x) - np.average(y))\n",
    "print(\"np.average(x - y)\", np.average(x - y))\n"
   ]
  },
  {
   "cell_type": "code",
   "execution_count": null,
   "id": "8081c330",
   "metadata": {},
   "outputs": [],
   "source": [
    "for t in tqdm(range(1000)): \n",
    "\n",
    "    prof = generate_profile(6, 500)\n",
    "\n",
    "    cw = prof.condorcet_winner()\n",
    "    woodall_ws = woodall(prof)\n",
    "\n",
    "    river_ws = river_zt(prof)\n",
    "\n",
    "    if cw is not None and [cw] != river_ws:\n",
    "        print(\"ERROR\")\n",
    "        print(\"river: \", river_ws)\n",
    "        print(\"cw: \", cw)\n",
    "        prof.display_margin_graph()\n"
   ]
  },
  {
   "cell_type": "code",
   "execution_count": null,
   "id": "384069e0",
   "metadata": {},
   "outputs": [],
   "source": [
    "for t in tqdm(range(1000)): \n",
    "\n",
    "    prof = generate_profile(10, 1001)\n",
    "\n",
    "    s_set = smith_set(prof)\n",
    "    cw = prof.condorcet_winner()\n",
    "    woodall_ws = woodall(prof)\n",
    "    if (cw is not None and woodall_ws != [cw]) or any([w not in s_set for w in woodall_ws]): \n",
    "        print(\"ERROR\")\n",
    "        print(\"cw: \", cw)\n",
    "        print(\"s_set: \", s_set)\n",
    "        print(\"woodall_ws: \", woodall_ws)"
   ]
  },
  {
   "cell_type": "code",
   "execution_count": null,
   "id": "dc656f82",
   "metadata": {},
   "outputs": [],
   "source": [
    "prof = generate_profile(3, 21)\n",
    "prof.display_margin_graph()\n",
    "copeland.display(prof)\n",
    "print(c1_maximal_lottery(prof))\n",
    "print(bipartisan(prof))\n",
    "print(maximal_lottery(prof))\n",
    "print(essential(prof))\n",
    "\n"
   ]
  },
  {
   "cell_type": "code",
   "execution_count": null,
   "id": "897cd21f",
   "metadata": {},
   "outputs": [],
   "source": [
    "mg = MarginGraph(\n",
    "    [0, 1,2 ],\n",
    "    [(0, 1, 1), \n",
    "    (1, 2, 5), \n",
    "    (2, 0, 3)]\n",
    ")\n",
    "mg.display()\n",
    "\n",
    "A = np.array(mg.margin_matrix)\n",
    "\n",
    "# Create the game\n",
    "game = nash.Game(A)\n",
    "print(game)\n",
    "# Find the Nash Equilibrium with Support Enumeration\n",
    "equilibria = game.support_enumeration()\n",
    "for eq in equilibria:\n",
    "    print(eq)\n",
    "\n"
   ]
  },
  {
   "cell_type": "code",
   "execution_count": null,
   "id": "f6eae564",
   "metadata": {},
   "outputs": [],
   "source": [
    "\n",
    "\n",
    "for t in range(1000): \n",
    "\n",
    "    prof = generate_profile(3, 5)\n",
    "    if prof.condorcet_winner() is None:\n",
    "        prof.display_margin_graph()\n",
    "\n",
    "        print(prof.margin_graph().margin_matrix)\n",
    "        # Define the payoff matrix for players\n",
    "        # A and B should be square matrices where the dimension is equal to the number of actions\n",
    "        A = np.array(prof.margin_matrix)\n",
    "        B = -A  # For zero sum games, player 2's payoff matrix is the negative of player 1's\n",
    "\n",
    "        # Create the game\n",
    "        game = nash.Game(A)\n",
    "        print(game)\n",
    "        # Find the Nash Equilibrium with Support Enumeration\n",
    "        equilibria = game.support_enumeration()\n",
    "        for eq in equilibria:\n",
    "            print(eq)\n",
    "\n",
    "        break\n"
   ]
  },
  {
   "cell_type": "code",
   "execution_count": null,
   "id": "a08c16fc",
   "metadata": {},
   "outputs": [],
   "source": [
    "for t in tqdm(range(1000)): \n",
    "    prof = generate_spatial_profile(10, 1001, 2).to_utility_profile().to_ranking_profile().to_linear_profile()\n",
    "\n",
    "    A = np.array(prof.margin_matrix)\n",
    "\n",
    "    game = nash.Game(A)\n",
    "    equilibria = list(game.vertex_enumeration())\n",
    "\n",
    "    if len(equilibria) != 1: \n",
    "        prof.display_margin_graph()\n",
    "        print(prof.margin_matrix)\n",
    "        print(equilibria)\n",
    "\n"
   ]
  },
  {
   "cell_type": "code",
   "execution_count": null,
   "id": "20fe77e4",
   "metadata": {},
   "outputs": [],
   "source": [
    "prof = generate_profile(4, 4)\n",
    "\n",
    "prof.display()\n",
    "print(prof.borda_scores())\n",
    "\n",
    "\n",
    "print(random_dictator(prof))\n",
    "print(random_dictator.name)\n",
    "print(pr_borda(prof))"
   ]
  },
  {
   "cell_type": "code",
   "execution_count": null,
   "id": "3feee2d9",
   "metadata": {},
   "outputs": [],
   "source": [
    "uprof = UtilityProfile([{0: u, 1: 20*u, 2: 30*u} for u in  [50, 60, 70, 80, 90, 100, 110]])\n",
    "\n",
    "uprof.display()\n",
    "\n",
    "uprof.normalize_by_range().display()\n",
    "\n",
    "uprof.normalize_by_standard_score().display()\n",
    "\n",
    "util_avg = uprof.avg_utility_function()\n",
    "\n",
    "for x in uprof.domain: \n",
    "    print(x, util_avg(x))"
   ]
  },
  {
   "cell_type": "code",
   "execution_count": null,
   "id": "4ad36dc9",
   "metadata": {},
   "outputs": [],
   "source": [
    "up = generate_spatial_profile(3, 3, 2).to_utility_profile()\n",
    "\n",
    "up.display()\n",
    "up.normalize_by_range().display()\n",
    "\n",
    "up.normalize_by_standard_score().display()"
   ]
  },
  {
   "cell_type": "code",
   "execution_count": null,
   "id": "46830b2c",
   "metadata": {},
   "outputs": [],
   "source": [
    "sp = generate_spatial_profile(5, 10, 2)\n",
    "\n",
    "sp.view()"
   ]
  },
  {
   "cell_type": "code",
   "execution_count": null,
   "id": "90803f63",
   "metadata": {},
   "outputs": [],
   "source": [
    "sp = generate_spatial_profile(5, 15, 3)\n",
    "sp.view()\n",
    "sp.display()\n",
    "sp_str = sp.write()\n",
    "\n",
    "sp2 = SpatialProfile.from_string(sp_str)\n",
    "\n",
    "sp2.view()\n",
    "sp2.display()\n"
   ]
  },
  {
   "cell_type": "code",
   "execution_count": null,
   "id": "9ed02009",
   "metadata": {},
   "outputs": [],
   "source": [
    "for t in range(100): \n",
    "    prof = generate_profile(4, 11)  \n",
    "    print(split_cycle(prof)  ) "
   ]
  },
  {
   "cell_type": "code",
   "execution_count": null,
   "id": "b5131fba",
   "metadata": {},
   "outputs": [],
   "source": [
    "\n",
    "for t in range(1000):\n",
    "    for vm in [split_cycle, \n",
    "               stable_voting, \n",
    "               beat_path, \n",
    "               beat_path_Floyd_Warshall, \n",
    "               split_cycle_Floyd_Warshall, \n",
    "               simple_stable_voting, \n",
    "               copeland,\n",
    "               borda, \n",
    "               plurality, \n",
    "               plurality_with_runoff_put, \n",
    "               instant_runoff, \n",
    "               coombs, \n",
    "               minimax, \n",
    "               strict_nanson, \n",
    "               bucklin]: \n",
    "\n",
    "        prof = generate_profile(5, 11)\n",
    "\n",
    "        vm.display(prof)\n",
    "        \n",
    "        prof = generate_profile(5, 10)\n",
    "\n",
    "        vm.display(prof)\n",
    "\n",
    "        ws_restricted = vm(prof, curr_cands = [0, 1, 2])\n",
    "        if not all([w in [0, 1, 2] for w in ws_restricted]): \n",
    "            print(\"ERROR: \", vm.name, ws_restricted, \" not an element of [0, 1, 2]\")\n",
    "            \n",
    "            exit(1)\n",
    "\n",
    "    print()\n",
    "\n",
    "\n"
   ]
  },
  {
   "cell_type": "code",
   "execution_count": null,
   "metadata": {},
   "outputs": [],
   "source": [
    "for t in range(100):\n",
    "    for vm in [split_cycle, \n",
    "               beat_path, \n",
    "               beat_path_Floyd_Warshall, \n",
    "               split_cycle_Floyd_Warshall, \n",
    "               plurality,\n",
    "               stable_voting, \n",
    "               simple_stable_voting, \n",
    "               copeland,\n",
    "               borda_for_profile_with_ties,\n",
    "               instant_runoff_for_truncated_linear_orders\n",
    "               ]: \n",
    "\n",
    "        prof = generate_truncated_profile(5, 11)\n",
    "\n",
    "        vm.display(prof)\n",
    "        prof = generate_truncated_profile(5, 10)\n",
    "\n",
    "        vm.display(prof)\n",
    "\n",
    "        ws_restricted = vm(prof, curr_cands = [0, 1, 2])\n",
    "        if not all([w in [0, 1, 2] for w in ws_restricted]): \n",
    "            print(\"ERROR: \", vm.name, ws_restricted, \" not an element of [0, 1, 2]\")\n",
    "            \n",
    "            exit(1)\n",
    "\n",
    "\n",
    "    print()\n"
   ]
  },
  {
   "cell_type": "code",
   "execution_count": null,
   "id": "dc153261",
   "metadata": {},
   "outputs": [],
   "source": [
    "for t in range(100):\n",
    "    for vm in [split_cycle, \n",
    "               beat_path, \n",
    "               beat_path_Floyd_Warshall, \n",
    "               split_cycle_Floyd_Warshall, \n",
    "               stable_voting, \n",
    "               simple_stable_voting, \n",
    "               gocha,\n",
    "               smith_set,\n",
    "               copeland\n",
    "               ]: \n",
    "\n",
    "        mg = generate_margin_graph(5)\n",
    "\n",
    "        vm.display(mg)\n",
    "        mg = generate_edge_ordered_tournament(4)\n",
    "        vm.display(mg)\n",
    "\n",
    "        mg = generate_edge_ordered_tournament_infinite_limit(5)\n",
    "        vm.display(mg)\n",
    "\n",
    "\n",
    "        ws_restricted = vm(mg, curr_cands = [0, 1, 2])\n",
    "        if not all([w in [0, 1, 2] for w in ws_restricted]): \n",
    "            print(\"ERROR: \", vm.name, ws_restricted, \" not an element of [0, 1, 2]\")\n",
    "            \n",
    "            exit(1)\n",
    "\n",
    "\n",
    "    print()\n"
   ]
  },
  {
   "cell_type": "code",
   "execution_count": null,
   "id": "77977722",
   "metadata": {},
   "outputs": [],
   "source": [
    "for t in range(100):\n",
    "    for um in [sum_utilitarian,\n",
    "                relative_utilitarian,\n",
    "                maximin,\n",
    "                lexicographic_maximin,\n",
    "                nash_bargaining,\n",
    "               ]: \n",
    "\n",
    "        uprof = generate_utility_profile_uniform(5, 10)\n",
    "        print(um(uprof))\n",
    "\n",
    "        uprof = generate_utility_profile_normal(6, 20)\n",
    "        print(um(uprof))\n",
    "\n",
    "        uprof = generate_spatial_utility_profile(5, 11)\n",
    "        print(um(uprof))\n",
    "\n",
    "    print()\n"
   ]
  },
  {
   "cell_type": "code",
   "execution_count": null,
   "id": "be94d945",
   "metadata": {},
   "outputs": [],
   "source": [
    "for t in range(100):\n",
    "    for vm in [sum_utilitarian_ws,\n",
    "                relative_utilitarian_ws,\n",
    "                maximin_ws,\n",
    "                lexicographic_maximin_ws,\n",
    "                nash_ws,\n",
    "               ]: \n",
    "\n",
    "        uprof = generate_utility_profile_uniform(5, 10)\n",
    "        vm.display(uprof)\n",
    "\n",
    "        uprof = generate_utility_profile_normal(6, 20)\n",
    "        vm.display(uprof)\n",
    "\n",
    "        uprof = generate_spatial_utility_profile(5, 11)\n",
    "        vm.display(uprof)\n",
    "\n",
    "        ws_restricted = vm(uprof, curr_cands = [0, 1, 2])\n",
    "        if not all([w in [0, 1, 2] for w in ws_restricted]): \n",
    "            print(\"ERROR: \", vm.name, ws_restricted, \" not an element of [0, 1, 2]\")\n",
    "            \n",
    "            exit(1)\n",
    "\n",
    "    print()\n"
   ]
  }
 ],
 "metadata": {
  "kernelspec": {
   "display_name": "Python 3 (ipykernel)",
   "language": "python",
   "name": "python3"
  },
  "language_info": {
   "codemirror_mode": {
    "name": "ipython",
    "version": 3
   },
   "file_extension": ".py",
   "mimetype": "text/x-python",
   "name": "python",
   "nbconvert_exporter": "python",
   "pygments_lexer": "ipython3",
   "version": "3.11.1"
  },
  "vscode": {
   "interpreter": {
    "hash": "3e0b5a01b8f727ee5e6561dee9387cd7de3c110c3a4eff66a475afe21c23d281"
   }
  }
 },
 "nbformat": 4,
 "nbformat_minor": 5
}
