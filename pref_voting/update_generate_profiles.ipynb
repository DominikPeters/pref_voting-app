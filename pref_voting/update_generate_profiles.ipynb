{
 "cells": [
  {
   "cell_type": "code",
   "execution_count": 79,
   "id": "64bc7052",
   "metadata": {},
   "outputs": [],
   "source": [
    "from pref_voting.profiles_with_ties import *\n",
    "from pref_voting.voting_methods import *\n",
    "from pref_voting.analysis import *\n",
    "from pref_voting.generate_profiles import *\n",
    "from pref_voting.generate_weighted_majority_graphs import *\n",
    "\n",
    "from pref_voting.utility_profiles import UtilityProfile, write_utility_profiles_to_json, read_utility_profiles_from_json\n",
    "from pref_voting.rankings import Ranking\n",
    "from pref_voting.generate_utility_profiles import *\n",
    "from pref_voting.generate_utility_profiles import *\n",
    "from pref_voting.utility_methods import *\n",
    "\n",
    "from pref_voting.spatial_profiles import SpatialProfile\n",
    "from pref_voting.generate_spatial_profiles import *\n",
    "from pref_voting.utility_functions import *\n",
    "from pref_voting.probabilistic_methods import *\n",
    "from tqdm.notebook import tqdm\n",
    "import nashpy as nash\n",
    "import numpy as np\n",
    "import random2 as random\n",
    "from pref_voting.mappings import _Mapping\n",
    "from multiprocess import Pool, cpu_count, current_process\n",
    "from numba import njit, float32\n",
    "import pickle\n",
    "import json\n",
    "from pref_voting.monotonicity_axioms import *\n",
    "from pref_voting.helper import *\n",
    "from pref_voting.variable_candidate_axioms import *\n",
    "from pref_voting.profiles import Profile"
   ]
  },
  {
   "cell_type": "code",
   "execution_count": 124,
   "id": "1874c77c",
   "metadata": {},
   "outputs": [],
   "source": [
    "num_trials = 10000\n",
    "all_num_cands = [3, 4, 5, 6, 7, 8, 9, 10]\n",
    "num_voters = 101\n",
    "\n",
    "data_for_df = {\n",
    "    \"num_cands\": [],\n",
    "    \"num_voters\": [],\n",
    "    \"num_trials\": [],\n",
    "    \"prob_model\": [],\n",
    "    \"pr_with_cw\": [],\n",
    "    \"pr_with_cycle\": [],\n",
    "    \"pr_uniquely_weighted\": [],\n",
    "}\n"
   ]
  },
  {
   "cell_type": "code",
   "execution_count": 125,
   "id": "3ae269ed",
   "metadata": {},
   "outputs": [
    {
     "data": {
      "application/vnd.jupyter.widget-view+json": {
       "model_id": "622dc0e3e4c943789d9848a80e39b6d8",
       "version_major": 2,
       "version_minor": 0
      },
      "text/plain": [
       "  0%|          | 0/8 [00:00<?, ?it/s]"
      ]
     },
     "metadata": {},
     "output_type": "display_data"
    },
    {
     "data": {
      "application/vnd.jupyter.widget-view+json": {
       "model_id": "88ed0b15829b4a4fbc909f143dd0eee4",
       "version_major": 2,
       "version_minor": 0
      },
      "text/plain": [
       "  0%|          | 0/10000 [00:00<?, ?it/s]"
      ]
     },
     "metadata": {},
     "output_type": "display_data"
    },
    {
     "data": {
      "application/vnd.jupyter.widget-view+json": {
       "model_id": "5f2796d96b19414f966b75487f91f8d6",
       "version_major": 2,
       "version_minor": 0
      },
      "text/plain": [
       "  0%|          | 0/10000 [00:00<?, ?it/s]"
      ]
     },
     "metadata": {},
     "output_type": "display_data"
    },
    {
     "data": {
      "application/vnd.jupyter.widget-view+json": {
       "model_id": "0181da1ffa8b4edeadf1e9b8a419fc47",
       "version_major": 2,
       "version_minor": 0
      },
      "text/plain": [
       "  0%|          | 0/10000 [00:00<?, ?it/s]"
      ]
     },
     "metadata": {},
     "output_type": "display_data"
    },
    {
     "data": {
      "application/vnd.jupyter.widget-view+json": {
       "model_id": "a04df2a42cf249a2ba5e546d06d46d2a",
       "version_major": 2,
       "version_minor": 0
      },
      "text/plain": [
       "  0%|          | 0/10000 [00:00<?, ?it/s]"
      ]
     },
     "metadata": {},
     "output_type": "display_data"
    },
    {
     "data": {
      "application/vnd.jupyter.widget-view+json": {
       "model_id": "96d8f628e4af4b1bad1ed3334c49928c",
       "version_major": 2,
       "version_minor": 0
      },
      "text/plain": [
       "  0%|          | 0/10000 [00:00<?, ?it/s]"
      ]
     },
     "metadata": {},
     "output_type": "display_data"
    },
    {
     "data": {
      "application/vnd.jupyter.widget-view+json": {
       "model_id": "bccdfbd29f8846f49838ce875172da0c",
       "version_major": 2,
       "version_minor": 0
      },
      "text/plain": [
       "  0%|          | 0/10000 [00:00<?, ?it/s]"
      ]
     },
     "metadata": {},
     "output_type": "display_data"
    },
    {
     "data": {
      "application/vnd.jupyter.widget-view+json": {
       "model_id": "42c6f720aaa443a9bf44d48ab7fcffb2",
       "version_major": 2,
       "version_minor": 0
      },
      "text/plain": [
       "  0%|          | 0/10000 [00:00<?, ?it/s]"
      ]
     },
     "metadata": {},
     "output_type": "display_data"
    },
    {
     "data": {
      "application/vnd.jupyter.widget-view+json": {
       "model_id": "44aea2c134ed43278a9723f7e7a650a9",
       "version_major": 2,
       "version_minor": 0
      },
      "text/plain": [
       "  0%|          | 0/10000 [00:00<?, ?it/s]"
      ]
     },
     "metadata": {},
     "output_type": "display_data"
    }
   ],
   "source": [
    "\n",
    "# random margin graph model\n",
    "for num_cands in tqdm(all_num_cands):\n",
    "    num_cw = 0\n",
    "    num_cycles = 0\n",
    "    num_uniquely_weighted = 0   \n",
    "    for t in tqdm(range(num_trials), leave=False):\n",
    "        mg = generate_margin_graph(num_cands)\n",
    "\n",
    "        if mg.has_cycle():\n",
    "            num_cycles += 1\n",
    "        cw = mg.condorcet_winner()\n",
    "        if cw is not None:\n",
    "            num_cw += 1\n",
    "        if mg.is_uniquely_weighted():\n",
    "            num_uniquely_weighted += 1\n",
    "            \n",
    "    data_for_df[\"num_cands\"].append(num_cands)\n",
    "    data_for_df[\"num_voters\"].append(num_voters)\n",
    "    data_for_df[\"num_trials\"].append(num_trials)\n",
    "    data_for_df[\"prob_model\"].append(\"Random Margin Graph Model\")\n",
    "    data_for_df[\"pr_with_cw\"].append(num_cw / num_trials)\n",
    "    data_for_df[\"pr_with_cycle\"].append(num_cycles / num_trials)\n",
    "    data_for_df[\"pr_uniquely_weighted\"].append(num_uniquely_weighted / num_trials)\n"
   ]
  },
  {
   "cell_type": "code",
   "execution_count": 126,
   "id": "ee9405bf",
   "metadata": {},
   "outputs": [
    {
     "data": {
      "application/vnd.jupyter.widget-view+json": {
       "model_id": "087ee94f60ef4bb684812629281f35f1",
       "version_major": 2,
       "version_minor": 0
      },
      "text/plain": [
       "  0%|          | 0/8 [00:00<?, ?it/s]"
      ]
     },
     "metadata": {},
     "output_type": "display_data"
    },
    {
     "data": {
      "application/vnd.jupyter.widget-view+json": {
       "model_id": "d82f0d2fd0cc4e8696d666fd42c98f35",
       "version_major": 2,
       "version_minor": 0
      },
      "text/plain": [
       "  0%|          | 0/10000 [00:00<?, ?it/s]"
      ]
     },
     "metadata": {},
     "output_type": "display_data"
    },
    {
     "data": {
      "application/vnd.jupyter.widget-view+json": {
       "model_id": "149c1f9df0244f9fb06f955d63d35641",
       "version_major": 2,
       "version_minor": 0
      },
      "text/plain": [
       "  0%|          | 0/10000 [00:00<?, ?it/s]"
      ]
     },
     "metadata": {},
     "output_type": "display_data"
    },
    {
     "data": {
      "application/vnd.jupyter.widget-view+json": {
       "model_id": "4e5c5cc7327e4b849f4de8031f247234",
       "version_major": 2,
       "version_minor": 0
      },
      "text/plain": [
       "  0%|          | 0/10000 [00:00<?, ?it/s]"
      ]
     },
     "metadata": {},
     "output_type": "display_data"
    },
    {
     "data": {
      "application/vnd.jupyter.widget-view+json": {
       "model_id": "3dec9327bb36489ca98abce41112f98f",
       "version_major": 2,
       "version_minor": 0
      },
      "text/plain": [
       "  0%|          | 0/10000 [00:00<?, ?it/s]"
      ]
     },
     "metadata": {},
     "output_type": "display_data"
    },
    {
     "data": {
      "application/vnd.jupyter.widget-view+json": {
       "model_id": "cdafacd9bdc646d38b8239187052bd5d",
       "version_major": 2,
       "version_minor": 0
      },
      "text/plain": [
       "  0%|          | 0/10000 [00:00<?, ?it/s]"
      ]
     },
     "metadata": {},
     "output_type": "display_data"
    },
    {
     "data": {
      "application/vnd.jupyter.widget-view+json": {
       "model_id": "7aaeeaf1c5c047368fe308dd18376513",
       "version_major": 2,
       "version_minor": 0
      },
      "text/plain": [
       "  0%|          | 0/10000 [00:00<?, ?it/s]"
      ]
     },
     "metadata": {},
     "output_type": "display_data"
    },
    {
     "data": {
      "application/vnd.jupyter.widget-view+json": {
       "model_id": "0c286510e4214e6cb0d8063c5978161b",
       "version_major": 2,
       "version_minor": 0
      },
      "text/plain": [
       "  0%|          | 0/10000 [00:00<?, ?it/s]"
      ]
     },
     "metadata": {},
     "output_type": "display_data"
    },
    {
     "data": {
      "application/vnd.jupyter.widget-view+json": {
       "model_id": "8ead41308044474dbd35c31703cdd04f",
       "version_major": 2,
       "version_minor": 0
      },
      "text/plain": [
       "  0%|          | 0/10000 [00:00<?, ?it/s]"
      ]
     },
     "metadata": {},
     "output_type": "display_data"
    }
   ],
   "source": [
    "\n",
    "# IC \n",
    "for num_cands in tqdm(all_num_cands):\n",
    "    num_cw = 0\n",
    "    num_cycles = 0\n",
    "    num_uniquely_weighted = 0\n",
    "    \n",
    "    for t in tqdm(range(num_trials), leave=False):\n",
    "        \n",
    "        mg = generate_profile(num_cands, num_voters).margin_graph()\n",
    "\n",
    "        if mg.has_cycle():\n",
    "            num_cycles += 1\n",
    "        cw = mg.condorcet_winner()\n",
    "        if cw is not None:\n",
    "            num_cw += 1\n",
    "        if mg.is_uniquely_weighted():\n",
    "            num_uniquely_weighted += 1\n",
    "\n",
    "    data_for_df[\"num_cands\"].append(num_cands)\n",
    "    data_for_df[\"num_voters\"].append(num_voters)\n",
    "    data_for_df[\"num_trials\"].append(num_trials)\n",
    "    data_for_df[\"prob_model\"].append(\"IC\")\n",
    "    data_for_df[\"pr_with_cw\"].append(num_cw / num_trials)\n",
    "    data_for_df[\"pr_with_cycle\"].append(num_cycles / num_trials)\n",
    "    data_for_df[\"pr_uniquely_weighted\"].append(num_uniquely_weighted / num_trials)\n"
   ]
  },
  {
   "cell_type": "code",
   "execution_count": 127,
   "id": "060e5258",
   "metadata": {},
   "outputs": [
    {
     "data": {
      "application/vnd.jupyter.widget-view+json": {
       "model_id": "ee14d79e859046d3a6705c1a275c80f3",
       "version_major": 2,
       "version_minor": 0
      },
      "text/plain": [
       "  0%|          | 0/8 [00:00<?, ?it/s]"
      ]
     },
     "metadata": {},
     "output_type": "display_data"
    },
    {
     "data": {
      "application/vnd.jupyter.widget-view+json": {
       "model_id": "8325ce6924ac45e88509c16cf0e33667",
       "version_major": 2,
       "version_minor": 0
      },
      "text/plain": [
       "  0%|          | 0/10000 [00:00<?, ?it/s]"
      ]
     },
     "metadata": {},
     "output_type": "display_data"
    },
    {
     "data": {
      "application/vnd.jupyter.widget-view+json": {
       "model_id": "ea96ca73f2b5467d83ec65af3bcd2ddc",
       "version_major": 2,
       "version_minor": 0
      },
      "text/plain": [
       "  0%|          | 0/10000 [00:00<?, ?it/s]"
      ]
     },
     "metadata": {},
     "output_type": "display_data"
    },
    {
     "data": {
      "application/vnd.jupyter.widget-view+json": {
       "model_id": "91b160ddd434479e87b7b019f2b2e3f5",
       "version_major": 2,
       "version_minor": 0
      },
      "text/plain": [
       "  0%|          | 0/10000 [00:00<?, ?it/s]"
      ]
     },
     "metadata": {},
     "output_type": "display_data"
    },
    {
     "data": {
      "application/vnd.jupyter.widget-view+json": {
       "model_id": "0943076d535a4d2ebe90be8efcd138a8",
       "version_major": 2,
       "version_minor": 0
      },
      "text/plain": [
       "  0%|          | 0/10000 [00:00<?, ?it/s]"
      ]
     },
     "metadata": {},
     "output_type": "display_data"
    },
    {
     "data": {
      "application/vnd.jupyter.widget-view+json": {
       "model_id": "6fdb33146fe04c95928add1e3075cd49",
       "version_major": 2,
       "version_minor": 0
      },
      "text/plain": [
       "  0%|          | 0/10000 [00:00<?, ?it/s]"
      ]
     },
     "metadata": {},
     "output_type": "display_data"
    },
    {
     "data": {
      "application/vnd.jupyter.widget-view+json": {
       "model_id": "87c19ee43524417ea6c5c2b2e3fcb10b",
       "version_major": 2,
       "version_minor": 0
      },
      "text/plain": [
       "  0%|          | 0/10000 [00:00<?, ?it/s]"
      ]
     },
     "metadata": {},
     "output_type": "display_data"
    },
    {
     "data": {
      "application/vnd.jupyter.widget-view+json": {
       "model_id": "cc0b42f60a1249af90d54a1ccf38514f",
       "version_major": 2,
       "version_minor": 0
      },
      "text/plain": [
       "  0%|          | 0/10000 [00:00<?, ?it/s]"
      ]
     },
     "metadata": {},
     "output_type": "display_data"
    },
    {
     "data": {
      "application/vnd.jupyter.widget-view+json": {
       "model_id": "f37fda3d7aaf46f6b4d122343bf4d44a",
       "version_major": 2,
       "version_minor": 0
      },
      "text/plain": [
       "  0%|          | 0/10000 [00:00<?, ?it/s]"
      ]
     },
     "metadata": {},
     "output_type": "display_data"
    }
   ],
   "source": [
    "\n",
    "# MALLOWS \n",
    "for num_cands in tqdm(all_num_cands):\n",
    "    num_cw = 0\n",
    "    num_cycles = 0\n",
    "    num_uniquely_weighted = 0\n",
    "\n",
    "    for t in tqdm(range(num_trials), leave=False):\n",
    "        \n",
    "        mg = generate_profile(num_cands, num_voters, probmod=\"MALLOWS-RELPHI-R\").margin_graph()\n",
    "\n",
    "        if mg.has_cycle():\n",
    "            num_cycles += 1\n",
    "        cw = mg.condorcet_winner()\n",
    "        if cw is not None:\n",
    "            num_cw += 1\n",
    "        if mg.is_uniquely_weighted():\n",
    "            num_uniquely_weighted += 1\n",
    "\n",
    "    data_for_df[\"num_cands\"].append(num_cands)\n",
    "    data_for_df[\"num_voters\"].append(num_voters)\n",
    "    data_for_df[\"num_trials\"].append(num_trials)\n",
    "    data_for_df[\"prob_model\"].append(\"MALLOWS-RELPHI-R\")\n",
    "    data_for_df[\"pr_with_cw\"].append(num_cw / num_trials)\n",
    "    data_for_df[\"pr_with_cycle\"].append(num_cycles / num_trials)\n",
    "    data_for_df[\"pr_uniquely_weighted\"].append(num_uniquely_weighted / num_trials)\n",
    "\n"
   ]
  },
  {
   "cell_type": "code",
   "execution_count": 128,
   "id": "971f17a3",
   "metadata": {},
   "outputs": [
    {
     "data": {
      "application/vnd.jupyter.widget-view+json": {
       "model_id": "eba54c29e19a45aba9ea5988f3f5f438",
       "version_major": 2,
       "version_minor": 0
      },
      "text/plain": [
       "  0%|          | 0/8 [00:00<?, ?it/s]"
      ]
     },
     "metadata": {},
     "output_type": "display_data"
    },
    {
     "data": {
      "application/vnd.jupyter.widget-view+json": {
       "model_id": "223e01fd1f224218831e61fd9db86b3d",
       "version_major": 2,
       "version_minor": 0
      },
      "text/plain": [
       "  0%|          | 0/10000 [00:00<?, ?it/s]"
      ]
     },
     "metadata": {},
     "output_type": "display_data"
    },
    {
     "data": {
      "application/vnd.jupyter.widget-view+json": {
       "model_id": "13d30efb4b6b4510b51846142758e133",
       "version_major": 2,
       "version_minor": 0
      },
      "text/plain": [
       "  0%|          | 0/10000 [00:00<?, ?it/s]"
      ]
     },
     "metadata": {},
     "output_type": "display_data"
    },
    {
     "data": {
      "application/vnd.jupyter.widget-view+json": {
       "model_id": "96b3464a03474ca8a6dcbacdaa61799f",
       "version_major": 2,
       "version_minor": 0
      },
      "text/plain": [
       "  0%|          | 0/10000 [00:00<?, ?it/s]"
      ]
     },
     "metadata": {},
     "output_type": "display_data"
    },
    {
     "data": {
      "application/vnd.jupyter.widget-view+json": {
       "model_id": "49bb187989f648b784c5615429148143",
       "version_major": 2,
       "version_minor": 0
      },
      "text/plain": [
       "  0%|          | 0/10000 [00:00<?, ?it/s]"
      ]
     },
     "metadata": {},
     "output_type": "display_data"
    },
    {
     "data": {
      "application/vnd.jupyter.widget-view+json": {
       "model_id": "2c842f2f13cb4226b2715f012b9bec78",
       "version_major": 2,
       "version_minor": 0
      },
      "text/plain": [
       "  0%|          | 0/10000 [00:00<?, ?it/s]"
      ]
     },
     "metadata": {},
     "output_type": "display_data"
    },
    {
     "data": {
      "application/vnd.jupyter.widget-view+json": {
       "model_id": "5703b574fad74e11b0d85aa063aa57c6",
       "version_major": 2,
       "version_minor": 0
      },
      "text/plain": [
       "  0%|          | 0/10000 [00:00<?, ?it/s]"
      ]
     },
     "metadata": {},
     "output_type": "display_data"
    },
    {
     "data": {
      "application/vnd.jupyter.widget-view+json": {
       "model_id": "715dcd5263634752adb20c490219461f",
       "version_major": 2,
       "version_minor": 0
      },
      "text/plain": [
       "  0%|          | 0/10000 [00:00<?, ?it/s]"
      ]
     },
     "metadata": {},
     "output_type": "display_data"
    },
    {
     "data": {
      "application/vnd.jupyter.widget-view+json": {
       "model_id": "6107f1049a33436f88dc4aea07e6ae82",
       "version_major": 2,
       "version_minor": 0
      },
      "text/plain": [
       "  0%|          | 0/10000 [00:00<?, ?it/s]"
      ]
     },
     "metadata": {},
     "output_type": "display_data"
    }
   ],
   "source": [
    "for num_cands in tqdm(all_num_cands):\n",
    "    num_cw = 0\n",
    "    num_cycles = 0\n",
    "    num_uniquely_weighted = 0\n",
    "    for t in tqdm(range(num_trials), leave=False):\n",
    "        mg = generate_margin_graph_bradley_terry(num_cands, num_voters)\n",
    "\n",
    "        if mg.has_cycle():\n",
    "            num_cycles += 1\n",
    "        cw = mg.condorcet_winner()\n",
    "        if cw is not None:\n",
    "            num_cw += 1\n",
    "        if mg.is_uniquely_weighted():\n",
    "            num_uniquely_weighted += 1\n",
    "\n",
    "    data_for_df[\"num_cands\"].append(num_cands)\n",
    "    data_for_df[\"num_voters\"].append(num_voters)\n",
    "    data_for_df[\"num_trials\"].append(num_trials)\n",
    "    data_for_df[\"prob_model\"].append(\"Bradley-Terry\")\n",
    "    data_for_df[\"pr_with_cw\"].append(num_cw / num_trials)\n",
    "    data_for_df[\"pr_with_cycle\"].append(num_cycles / num_trials)\n",
    "    data_for_df[\"pr_uniquely_weighted\"].append(num_uniquely_weighted / num_trials)\n"
   ]
  },
  {
   "cell_type": "code",
   "execution_count": 129,
   "id": "2350e61b",
   "metadata": {},
   "outputs": [
    {
     "data": {
      "text/html": [
       "<div>\n",
       "<style scoped>\n",
       "    .dataframe tbody tr th:only-of-type {\n",
       "        vertical-align: middle;\n",
       "    }\n",
       "\n",
       "    .dataframe tbody tr th {\n",
       "        vertical-align: top;\n",
       "    }\n",
       "\n",
       "    .dataframe thead th {\n",
       "        text-align: right;\n",
       "    }\n",
       "</style>\n",
       "<table border=\"1\" class=\"dataframe\">\n",
       "  <thead>\n",
       "    <tr style=\"text-align: right;\">\n",
       "      <th></th>\n",
       "      <th>num_cands</th>\n",
       "      <th>num_voters</th>\n",
       "      <th>num_trials</th>\n",
       "      <th>prob_model</th>\n",
       "      <th>pr_with_cw</th>\n",
       "      <th>pr_with_cycle</th>\n",
       "      <th>pr_uniquely_weighted</th>\n",
       "    </tr>\n",
       "  </thead>\n",
       "  <tbody>\n",
       "    <tr>\n",
       "      <th>8</th>\n",
       "      <td>3</td>\n",
       "      <td>101</td>\n",
       "      <td>10000</td>\n",
       "      <td>IC</td>\n",
       "      <td>0.9205</td>\n",
       "      <td>0.0795</td>\n",
       "      <td>0.6880</td>\n",
       "    </tr>\n",
       "    <tr>\n",
       "      <th>9</th>\n",
       "      <td>4</td>\n",
       "      <td>101</td>\n",
       "      <td>10000</td>\n",
       "      <td>IC</td>\n",
       "      <td>0.8266</td>\n",
       "      <td>0.2532</td>\n",
       "      <td>0.1364</td>\n",
       "    </tr>\n",
       "    <tr>\n",
       "      <th>10</th>\n",
       "      <td>5</td>\n",
       "      <td>101</td>\n",
       "      <td>10000</td>\n",
       "      <td>IC</td>\n",
       "      <td>0.7506</td>\n",
       "      <td>0.4694</td>\n",
       "      <td>0.0022</td>\n",
       "    </tr>\n",
       "    <tr>\n",
       "      <th>11</th>\n",
       "      <td>6</td>\n",
       "      <td>101</td>\n",
       "      <td>10000</td>\n",
       "      <td>IC</td>\n",
       "      <td>0.6840</td>\n",
       "      <td>0.6697</td>\n",
       "      <td>0.0000</td>\n",
       "    </tr>\n",
       "    <tr>\n",
       "      <th>12</th>\n",
       "      <td>7</td>\n",
       "      <td>101</td>\n",
       "      <td>10000</td>\n",
       "      <td>IC</td>\n",
       "      <td>0.6277</td>\n",
       "      <td>0.8269</td>\n",
       "      <td>0.0000</td>\n",
       "    </tr>\n",
       "    <tr>\n",
       "      <th>13</th>\n",
       "      <td>8</td>\n",
       "      <td>101</td>\n",
       "      <td>10000</td>\n",
       "      <td>IC</td>\n",
       "      <td>0.5895</td>\n",
       "      <td>0.9170</td>\n",
       "      <td>0.0000</td>\n",
       "    </tr>\n",
       "    <tr>\n",
       "      <th>14</th>\n",
       "      <td>9</td>\n",
       "      <td>101</td>\n",
       "      <td>10000</td>\n",
       "      <td>IC</td>\n",
       "      <td>0.5468</td>\n",
       "      <td>0.9634</td>\n",
       "      <td>0.0000</td>\n",
       "    </tr>\n",
       "    <tr>\n",
       "      <th>15</th>\n",
       "      <td>10</td>\n",
       "      <td>101</td>\n",
       "      <td>10000</td>\n",
       "      <td>IC</td>\n",
       "      <td>0.5233</td>\n",
       "      <td>0.9861</td>\n",
       "      <td>0.0000</td>\n",
       "    </tr>\n",
       "  </tbody>\n",
       "</table>\n",
       "</div>"
      ],
      "text/plain": [
       "    num_cands  num_voters  num_trials prob_model  pr_with_cw  pr_with_cycle  \\\n",
       "8           3         101       10000         IC      0.9205         0.0795   \n",
       "9           4         101       10000         IC      0.8266         0.2532   \n",
       "10          5         101       10000         IC      0.7506         0.4694   \n",
       "11          6         101       10000         IC      0.6840         0.6697   \n",
       "12          7         101       10000         IC      0.6277         0.8269   \n",
       "13          8         101       10000         IC      0.5895         0.9170   \n",
       "14          9         101       10000         IC      0.5468         0.9634   \n",
       "15         10         101       10000         IC      0.5233         0.9861   \n",
       "\n",
       "    pr_uniquely_weighted  \n",
       "8                 0.6880  \n",
       "9                 0.1364  \n",
       "10                0.0022  \n",
       "11                0.0000  \n",
       "12                0.0000  \n",
       "13                0.0000  \n",
       "14                0.0000  \n",
       "15                0.0000  "
      ]
     },
     "execution_count": 129,
     "metadata": {},
     "output_type": "execute_result"
    }
   ],
   "source": [
    "\n",
    "df = pd.DataFrame(data_for_df)\n",
    "df[df[\"prob_model\"] == \"IC\"] "
   ]
  },
  {
   "cell_type": "code",
   "execution_count": 135,
   "id": "e7e34636",
   "metadata": {},
   "outputs": [
    {
     "data": {
      "image/png": "[encoded data removed]",
      "text/plain": [
       "<Figure size 640x480 with 1 Axes>"
      ]
     },
     "metadata": {},
     "output_type": "display_data"
    }
   ],
   "source": [
    "import seaborn as sns\n",
    "\n",
    "sns.set_theme(style=\"darkgrid\")\n",
    "sns.lineplot(data=df, x=\"num_cands\", y=\"pr_with_cw\", hue=\"prob_model\",  markers=True, dashes=False)\n",
    "plt.title(\"Probability of a Condorcet Winner\")\n",
    "plt.savefig(\"pr_with_cw.pdf\")"
   ]
  },
  {
   "cell_type": "code",
   "execution_count": 137,
   "id": "70368fff",
   "metadata": {},
   "outputs": [
    {
     "data": {
      "image/png": "[encoded data removed]",
      "text/plain": [
       "<Figure size 640x480 with 1 Axes>"
      ]
     },
     "metadata": {},
     "output_type": "display_data"
    }
   ],
   "source": [
    "sns.lineplot(data=df, x=\"num_cands\", y=\"pr_with_cycle\", hue=\"prob_model\",  markers=True, dashes=False)\n",
    "plt.title(\"Probability of Containing a Cycle\")\n",
    "plt.savefig(\"pr_with_cycle.pdf\")"
   ]
  },
  {
   "cell_type": "code",
   "execution_count": 136,
   "id": "7e37fb17",
   "metadata": {},
   "outputs": [
    {
     "data": {
      "image/png": "[encoded data removed]",
      "text/plain": [
       "<Figure size 640x480 with 1 Axes>"
      ]
     },
     "metadata": {},
     "output_type": "display_data"
    }
   ],
   "source": [
    "sns.lineplot(data=df, x=\"num_cands\", y=\"pr_uniquely_weighted\", hue=\"prob_model\",  markers=True, dashes=False)\n",
    "plt.title(\"Probability of Uniquely Weighted\")\n",
    "plt.savefig(\"pr_uniquely_weighted.pdf\")"
   ]
  },
  {
   "cell_type": "code",
   "execution_count": 2,
   "id": "4050e60a",
   "metadata": {},
   "outputs": [
    {
     "name": "stdout",
     "output_type": "stream",
     "text": [
      "0.5.32\n"
     ]
    }
   ],
   "source": [
    "import pref_voting\n",
    "print(pref_voting.__version__)"
   ]
  },
  {
   "cell_type": "code",
   "execution_count": null,
   "id": "5f7cc698",
   "metadata": {},
   "outputs": [],
   "source": []
  },
  {
   "cell_type": "code",
   "execution_count": 4,
   "id": "01b4cae4",
   "metadata": {},
   "outputs": [
    {
     "name": "stdout",
     "output_type": "stream",
     "text": [
      "+---+---+---+---+---+---+---+---+---+---+\n",
      "| 1 | 1 | 1 | 1 | 1 | 1 | 1 | 1 | 1 | 1 |\n",
      "+---+---+---+---+---+---+---+---+---+---+\n",
      "| 0 | 0 | 0 | 0 | 0 | 1 | 1 | 0 | 1 | 0 |\n",
      "| 1 | 1 | 1 | 1 | 1 | 0 | 0 | 1 | 0 | 1 |\n",
      "+---+---+---+---+---+---+---+---+---+---+\n",
      "+---+---+\n",
      "| 7 | 3 |\n",
      "+---+---+\n",
      "| 0 | 1 |\n",
      "| 1 | 0 |\n",
      "+---+---+\n",
      "+---+---+---+---+---+---+---+---+---+---+\n",
      "| 1 | 1 | 1 | 1 | 1 | 1 | 1 | 1 | 1 | 1 |\n",
      "+---+---+---+---+---+---+---+---+---+---+\n",
      "| 0 | 0 | 0 | 0 | 0 | 1 | 1 | 0 | 1 | 0 |\n",
      "| 1 | 1 | 1 | 1 | 1 | 0 | 0 | 1 | 0 | 1 |\n",
      "+---+---+---+---+---+---+---+---+---+---+\n"
     ]
    }
   ],
   "source": [
    "from prefsampling.ordinal.impartial import impartial\n",
    "\n",
    "\n",
    "prof = Profile(impartial(10, 2, seed=None))\n",
    "\n",
    "prof.display()\n",
    "\n",
    "prof.anonymize().display()\n",
    "\n",
    "prof.display()"
   ]
  },
  {
   "cell_type": "code",
   "execution_count": 60,
   "id": "b7a747c1",
   "metadata": {},
   "outputs": [
    {
     "name": "stdout",
     "output_type": "stream",
     "text": [
      "0.05041468918240317\n",
      "1.725090099498795\n",
      "0.16134003712341477\n"
     ]
    }
   ],
   "source": [
    "rng = np.random.default_rng(10012)\n",
    "print(gamma.rvs(0.8, random_state=rng))\n",
    "print(gamma.rvs(0.8, random_state=rng))\n",
    "print(gamma.rvs(0.8, random_state=rng))"
   ]
  },
  {
   "cell_type": "code",
   "execution_count": 63,
   "id": "acd3cce5",
   "metadata": {},
   "outputs": [],
   "source": [
    "from prefsampling.ordinal import impartial, impartial_anonymous, urn\n",
    "\n",
    "def generate_profiles2(num_candidates, num_voters, **kwargs): \n",
    "\n",
    "    if 'probmodel' in kwargs:\n",
    "        probmodel = kwargs['probmodel']\n",
    "    else: \n",
    "        probmodel = \"IC\"\n",
    "\n",
    "    if 'seed' in kwargs:\n",
    "        seed = kwargs['seed']\n",
    "    else: \n",
    "        seed = None\n",
    "    \n",
    "    if 'num_profiles' in kwargs:\n",
    "        num_profiles = kwargs['num_profiles']\n",
    "    else: \n",
    "        num_profiles = 1\n",
    "    \n",
    "    if 'anonymize' in kwargs: \n",
    "        anonymize = kwargs['anonymize']\n",
    "    else:\n",
    "        anonymize = False\n",
    "\n",
    "    if probmodel == \"IC\" or probmodel == 'impartial': \n",
    "        \n",
    "        profs = [Profile(impartial(num_voters, \n",
    "                                   num_candidates, \n",
    "                                   seed=seed))  \n",
    "                                   for _ in range(num_profiles)]\n",
    "    \n",
    "    elif probmodel == \"IAC\" or probmodel == 'impartial_anonymous': \n",
    "        \n",
    "        profs = [Profile(impartial_anonymous(num_voters, \n",
    "                                             num_candidates, \n",
    "                                             seed=seed)) \n",
    "                                             for _ in range(num_profiles)]\n",
    "\n",
    "    elif probmodel == \"URN\" or probmodel == 'urn': \n",
    "\n",
    "        if 'alpha' in kwargs: \n",
    "            alpha = kwargs['alpha']\n",
    "        else:\n",
    "            alpha = 1.0\n",
    "            \n",
    "        profs = [Profile(urn(num_voters,\n",
    "                             num_candidates, \n",
    "                             alpha,\n",
    "                             seed=seed)) \n",
    "                             for _ in range(num_profiles)]\n",
    "\n",
    "\n",
    "    elif probmodel == \"URN-10\":\n",
    "        \n",
    "        alpha = 10\n",
    "        profs = [Profile(urn(num_voters,\n",
    "                             num_candidates, \n",
    "                             alpha,\n",
    "                             seed=seed)) \n",
    "                             for _ in range(num_profiles)]\n",
    "    \n",
    "    elif probmodel == \"URN-0.3\":\n",
    "        \n",
    "        alpha = round(math.factorial(num_candidates) * 0.3)\n",
    "        profs = [Profile(urn(num_voters,\n",
    "                             num_candidates, \n",
    "                             alpha,\n",
    "                             seed=seed)) \n",
    "                             for _ in range(num_profiles)]\n",
    "        \n",
    "    elif probmodel == \"URN-R\":\n",
    "        \n",
    "        rng = np.random.default_rng(seed)\n",
    "        alpha = round(math.factorial(num_candidates) * gamma.rvs(0.8, random_state=rng))\n",
    "        profs = [Profile(urn(num_voters,\n",
    "                             num_candidates, \n",
    "                             alpha,\n",
    "                             seed=seed)) \n",
    "                             for _ in range(num_profiles)]\n",
    "        \n",
    "    if anonymize: \n",
    "        profs = [prof.anonymize() for prof in profs]\n",
    "    return profs[0] if num_profiles == 1 else profs\n"
   ]
  },
  {
   "cell_type": "code",
   "execution_count": 78,
   "id": "19de06a4",
   "metadata": {},
   "outputs": [
    {
     "name": "stdout",
     "output_type": "stream",
     "text": [
      "+---+\n",
      "| 4 |\n",
      "+---+\n",
      "| 0 |\n",
      "| 1 |\n",
      "| 2 |\n",
      "+---+\n"
     ]
    }
   ],
   "source": [
    "generate_profiles2(3, 4,  anonymize=True, probmodel=\"URN-R\")\n",
    "\n"
   ]
  },
  {
   "cell_type": "code",
   "execution_count": 3,
   "id": "1cc33428",
   "metadata": {},
   "outputs": [],
   "source": [
    "prob_models = {\n",
    "    \"IC\": {\n",
    "        \"func\": create_rankings_urn,\n",
    "        \"param\": 0,\n",
    "    },  # IC model is the Urn model with alpha=0\n",
    "    \"IAC\": {\"func\": create_rankings_urn, \"param\": 1},  # IAC model is urn with alpha=1\n",
    "    \"MALLOWS-0.8\": {\"func\": create_rankings_mallows, \"param\": 0.8},\n",
    "    \"MALLOWS-0.2\": {\"func\": create_rankings_mallows, \"param\": 0.2},\n",
    "    \"MALLOWS-R\": {\n",
    "        \"func\": create_rankings_mallows,\n",
    "        \"param\": lambda nc: random.uniform(0.001, 0.999),\n",
    "    },\n",
    "    \"MALLOWS-RELPHI-0.4\": {\n",
    "        \"func\": create_rankings_mallows,\n",
    "        \"param\": lambda nc: phi_from_relphi(nc, 0.4),\n",
    "    },\n",
    "    \"MALLOWS-RELPHI-0.375\": {\n",
    "        \"func\": create_rankings_mallows,\n",
    "        \"param\": lambda nc: phi_from_relphi(nc, 0.375),\n",
    "    },\n",
    "    \"MALLOWS-RELPHI-0\": {\n",
    "        \"func\": create_rankings_mallows,\n",
    "        \"param\": lambda nc: phi_from_relphi(nc, 0),\n",
    "    },\n",
    "    \"MALLOWS-RELPHI-1\": {\n",
    "        \"func\": create_rankings_mallows,\n",
    "        \"param\": lambda nc: phi_from_relphi(nc, 1),\n",
    "    },\n",
    "    \"MALLOWS-RELPHI-R\": {\n",
    "        \"func\": create_rankings_mallows,\n",
    "        \"param\": lambda nc: phi_from_relphi(nc),\n",
    "    },\n",
    "    \"MALLOWS-RELPHI-R2\": {\n",
    "        \"func\": create_rankings_mallows,\n",
    "        \"param\": lambda nc: phi_from_relphi(nc, random.uniform(0.001, 0.5)),\n",
    "    },\n",
    "    \"MALLOWS_2REF-0.8\": {\"func\": create_rankings_mallows_two_rankings, \"param\": 0.8},\n",
    "    \"MALLOWS_2REF-RELPHI-R\": {\n",
    "        \"func\": create_rankings_mallows_two_rankings,\n",
    "        \"param\": lambda nc: phi_from_relphi(nc),\n",
    "    },\n",
    "    \"MALLOWS_2REF-RELPHI-R2\": {\n",
    "        \"func\": create_rankings_mallows_two_rankings,\n",
    "        \"param\": lambda nc: phi_from_relphi(nc, random.uniform(0.001, 0.5)),\n",
    "    },\n",
    "    \"URN-10\": {\"func\": create_rankings_urn, \"param\": 10},\n",
    "    \"URN-0.1\": {\n",
    "        \"func\": create_rankings_urn,\n",
    "        \"param\": lambda nc: round(math.factorial(nc) * 0.1),\n",
    "    },\n",
    "    \"URN-0.3\": {\n",
    "        \"func\": create_rankings_urn,\n",
    "        \"param\": lambda nc: round(math.factorial(nc) * 0.3),\n",
    "    },\n",
    "    \"URN-R\": {\n",
    "        \"func\": create_rankings_urn,\n",
    "        \"param\": lambda nc: round(math.factorial(nc) * gamma.rvs(0.8)),\n",
    "    },\n",
    "    \"SinglePeaked\": {\"func\": create_rankings_single_peaked, \"param\": None},\n",
    "}\n",
    "\n",
    "\n",
    "def get_replacement(num_cands, param):\n",
    "    return int(num_cands * param)\n",
    "\n",
    "\n",
    "def generate_profile(num_cands, num_voters, probmod=\"IC\", probmod_param=None):\n",
    "    \"\"\"Generate a :class:`Profile` with ``num_cands`` candidates and ``num_voters`` voters using the  probabilistic model ``probmod`` (with parameter ``probmod_param``).\n",
    "\n",
    "    :param num_cands: the number of candidates in the profile\n",
    "    :type num_cands: int\n",
    "    :param num_voters: the number of voters in the profile\n",
    "    :type num_voters: int\n",
    "    :param probmod: the probability model used to generate the :class:`Profile`\n",
    "    :type probmod: str, optional (default \"IC\")\n",
    "    :param probmod_param: a parameter to the probability model\n",
    "    :type probmod_param: number or function, optional\n",
    "    :returns: A profile of strict linear orders\n",
    "    :rtype: Profile\n",
    "\n",
    "\n",
    "    :Example:\n",
    "\n",
    "    .. exec_code::\n",
    "\n",
    "        from pref_voting.generate_profiles import generate_profile\n",
    "        prof = generate_profile(4, 10) # default is probmod is IC\n",
    "        prof.display()\n",
    "        prof = generate_profile(4, 10, probmod=\"IAC\")\n",
    "        prof.display()\n",
    "        prof = generate_profile(4, 10, probmod=\"URN-0.3\")\n",
    "        prof.display()\n",
    "        prof = generate_profile(4, 10, probmod=\"MALLOWS-R\")\n",
    "        prof.display()\n",
    "        prof = generate_profile(4, 10, probmod=\"MALLOWS-RELPHI-0.375\")\n",
    "        prof.display()\n",
    "        prof = generate_profile(4, 10, probmod=\"SinglePeaked\")\n",
    "        prof.display()\n",
    "\n",
    "    :Possible Values of probmod:\n",
    "\n",
    "    - \"IC\" (Impartial Culture);\n",
    "    - \"IAC\" (Impartial Anonymous Culture);\n",
    "    - \"URN-10\" (URN model with :math:`\\\\alpha=10`), \"URN-0.1\"  (URN model with :math:`\\\\alpha=0.1*num\\_cands!`), \"URN-0.3\" (URN model with :math:`\\\\alpha=0.3*num\\_cands!`), \"URN-R\" (URN model with randomly chosen :math:`\\\\alpha`);\n",
    "    - \"MALLOWS-0.8\" (Mallows model with :math:`\\\\phi=0.8`), \"MALLOWS-0.2\" (Mallows model with :math:`\\\\phi=0.2`), \"MALLOWS-R\" (Mallows model with :math:`\\\\phi` randomly chosen between 0 and 1);\n",
    "    - \"MALLOWS-RELPHI-0.4\" (Mallows model with :math:`\\\\phi` defined from ``num_cands`` and the relphi value of 0.4), \"MALLOWS-RELPHI-0.375\" (Mallows model with :math:`\\\\phi` defined from ``num_cands`` and the relphi value of 0.375), \"MALLOWS-RELPHI-0\" (Mallows model with :math:`\\\\phi` defined from ``num_cands`` and the relphi value of 0),  \"MALLOWS-RELPHI-1\" (Mallows model with :math:`\\\\phi` defined from ``num_cands`` and the relphi value of 1), (Mallows model with :math:`\\\\phi` defined from ``num_cands`` and the relphi value randomly chosen based on the number of candidates), \"MALLOWS-RELPHI-R2\" (Mallows model with :math:`\\\\phi` defined from ``num_cands`` and the relphi value randomly chosen), \"MALLOWS_2REF-0.8\" (Mallows model with 2 reference rankings and :math:`\\\\phi = 0.8`),\n",
    "    - \"MALLOWS_2REF-RELPHI-R\": (Mallows model with 2 reference rankings and :math:`\\\\phi` defined from ``num_cands`` and a randomly chosen relphi value based on the number of candidates), \"MALLOWS_2REF-RELPHI-R2\"(Mallows model with 2 reference rankings and :math:`\\\\phi` defined from ``num_cands`` and a randomly chosen relphi value); and\n",
    "    - \"SinglePeaked\" (Single Peaked)\n",
    "\n",
    "    In addition, you can customize the probability model used to generate a profile as follows:\n",
    "\n",
    "    - ``probmod`` is \"URN\" and ``probmod_param`` is either a number or a function :math:`f` and the parameter is defined by applying :math:`f` to the number of candidates.\n",
    "\n",
    "    - ``probmod`` is \"MALLOWS\" and ``probmod_param`` is either a number or a function :math:`f` and the parameter is defined by applying :math:`f` to the number of candidates.\n",
    "\n",
    "    - ``probmod`` is \"MALLOWS_2REF\" and ``probmod_param`` is either a number or a function :math:`f` and the parameter is defined by applying :math:`f` to the number of candidates.\n",
    "\n",
    "    :Example:\n",
    "\n",
    "    .. exec_code::\n",
    "\n",
    "        import math\n",
    "        from pref_voting.generate_profiles import generate_profile\n",
    "        prof = generate_profile(4, 10, probmod=\"URN\", probmod_param=5)\n",
    "        prof.display()\n",
    "        prof = generate_profile(4, 10, probmod=\"MALLOWS\", probmod_param=0.5)\n",
    "        prof.display()\n",
    "        prof = generate_profile(4, 10, probmod=\"MALLOWS_2REF\", probmod_param=0.5)\n",
    "        prof.display()\n",
    "        prof = generate_profile(4, 10, probmod=\"URN\", probmod_param=lambda nc: math.factorial(nc) * 0.5)\n",
    "    \"\"\"\n",
    "\n",
    "    if probmod in prob_models.keys():\n",
    "\n",
    "        create_rankings = prob_models[probmod][\"func\"]\n",
    "        _probmod_param = prob_models[probmod][\"param\"]\n",
    "\n",
    "    elif probmod == \"Spatial\":\n",
    "\n",
    "        num_dims = probmod_param[0] if probmod_param is not None else 2\n",
    "        voter_utility = probmod_param[1] if probmod_param is not None else linear_utility\n",
    "\n",
    "        sprof = generate_spatial_profile(num_cands, num_voters, num_dims=num_dims)\n",
    "\n",
    "        return sprof.to_utility_profile(utility_function=voter_utility).to_ranking_profile()\n",
    "    elif probmod == \"URN\":\n",
    "\n",
    "        create_rankings = create_rankings_urn\n",
    "        _probmod_param = probmod_param if probmod_param is not None else 0\n",
    "\n",
    "    elif probmod == \"MALLOWS\":\n",
    "\n",
    "        create_rankings = create_rankings_mallows\n",
    "        _probmod_param = probmod_param if probmod_param is not None else 1\n",
    "\n",
    "    elif probmod == \"MALLOWS_2REF\":\n",
    "\n",
    "        create_rankings = create_rankings_mallows_two_rankings\n",
    "        _probmod_param = probmod_param if probmod_param is not None else 1\n",
    "\n",
    "    else:\n",
    "        print(f\"{probmod}: Probability model not implemented, no profile generated.\")\n",
    "        return None\n",
    "\n",
    "    probmod_param = (\n",
    "        _probmod_param(num_cands) if callable(_probmod_param) else _probmod_param\n",
    "    )\n",
    "\n",
    "    rankings, rcounts = create_rankings(num_cands, num_voters, probmod_param)\n",
    "\n",
    "    return Profile(rankings, rcounts=rcounts)\n",
    "\n"
   ]
  },
  {
   "cell_type": "code",
   "execution_count": 5,
   "id": "2616d2ac",
   "metadata": {},
   "outputs": [],
   "source": [
    "from prefsampling.ordinal.impartial import impartial\n"
   ]
  },
  {
   "cell_type": "code",
   "execution_count": 17,
   "id": "f6567b43",
   "metadata": {},
   "outputs": [
    {
     "name": "stdout",
     "output_type": "stream",
     "text": [
      "[[3 0 2 1 4]\n",
      " [1 3 2 4 0]\n",
      " [2 1 4 3 0]] \n",
      "\n",
      "[[3 0 2 4 1]\n",
      " [2 4 1 0 3]\n",
      " [4 0 3 2 1]] \n",
      "\n",
      "[[1 3 2 4 0]\n",
      " [1 3 2 4 0]\n",
      " [2 3 1 0 4]] \n",
      "\n",
      "[[0 3 2 4 1]\n",
      " [4 0 1 2 3]\n",
      " [3 0 4 2 1]] \n",
      "\n",
      "[[0 3 2 1 4]\n",
      " [3 4 1 2 0]\n",
      " [3 1 4 2 0]] \n",
      "\n",
      "[[2 0 1 4 3]\n",
      " [1 2 3 4 0]\n",
      " [0 4 3 2 1]] \n",
      "\n",
      "[[3 2 1 0 4]\n",
      " [4 2 0 3 1]\n",
      " [0 3 2 4 1]] \n",
      "\n",
      "[[4 0 3 2 1]\n",
      " [3 1 4 0 2]\n",
      " [2 3 1 0 4]] \n",
      "\n",
      "[[1 3 4 0 2]\n",
      " [0 4 3 2 1]\n",
      " [2 1 4 3 0]] \n",
      "\n",
      "[[4 1 2 3 0]\n",
      " [0 4 2 3 1]\n",
      " [3 0 1 4 2]] \n",
      "\n"
     ]
    }
   ],
   "source": [
    "for i in range(10): \n",
    "    print(impartial(3, 5), \"\\n\")"
   ]
  },
  {
   "cell_type": "code",
   "execution_count": null,
   "id": "46514dba",
   "metadata": {},
   "outputs": [],
   "source": []
  },
  {
   "cell_type": "code",
   "execution_count": null,
   "id": "7ad5bd84",
   "metadata": {},
   "outputs": [],
   "source": []
  }
 ],
 "metadata": {
  "kernelspec": {
   "display_name": "Python 3 (ipykernel)",
   "language": "python",
   "name": "python3"
  },
  "language_info": {
   "codemirror_mode": {
    "name": "ipython",
    "version": 3
   },
   "file_extension": ".py",
   "mimetype": "text/x-python",
   "name": "python",
   "nbconvert_exporter": "python",
   "pygments_lexer": "ipython3",
   "version": "3.11.6"
  },
  "vscode": {
   "interpreter": {
    "hash": "3e0b5a01b8f727ee5e6561dee9387cd7de3c110c3a4eff66a475afe21c23d281"
   }
  }
 },
 "nbformat": 4,
 "nbformat_minor": 5
}
