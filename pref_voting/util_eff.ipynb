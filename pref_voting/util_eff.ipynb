{
 "cells": [
  {
   "cell_type": "code",
   "execution_count": 22,
   "id": "64bc7052",
   "metadata": {},
   "outputs": [],
   "source": [
    "from pref_voting.profiles_with_ties import *\n",
    "from pref_voting.voting_methods import *\n",
    "\n",
    "from pref_voting.generate_profiles import *\n",
    "from pref_voting.generate_weighted_majority_graphs import *\n",
    "\n",
    "from pref_voting.utility_profiles import UtilityProfile\n",
    "\n",
    "from pref_voting.generate_utility_profiles import *\n",
    "from pref_voting.generate_utility_profiles import *\n",
    "from pref_voting.utility_methods import *\n",
    "\n",
    "from pref_voting.spatial_profiles import SpatialProfile\n",
    "from pref_voting.generate_spatial_profiles import *\n",
    "from pref_voting.utility_functions import *\n",
    "from pref_voting.utility_methods import *\n",
    "\n",
    "from tqdm.notebook import tqdm\n"
   ]
  },
  {
   "cell_type": "code",
   "execution_count": 28,
   "id": "cc9a4700",
   "metadata": {},
   "outputs": [
    {
     "data": {
      "application/vnd.jupyter.widget-view+json": {
       "model_id": "7432cf04a38b4876a5be531f3f9e944b",
       "version_major": 2,
       "version_minor": 0
      },
      "text/plain": [
       "  0%|          | 0/10000 [00:00<?, ?it/s]"
      ]
     },
     "metadata": {},
     "output_type": "display_data"
    },
    {
     "name": "stdout",
     "output_type": "stream",
     "text": [
      "Social Utility Efficiency for Plurality: 0.6604769024150335\n",
      "Social Utility Efficiency for PluralityWRunoff: 0.8237844149350064\n",
      "Social Utility Efficiency for Instant Runoff: 0.8846071885329869\n",
      "Social Utility Efficiency for Borda: 0.9802704868067399\n",
      "Social Utility Efficiency for Coombs: 0.9780310248868681\n",
      "Social Utility Efficiency for Blacks: 0.9856360516343405\n",
      "Social Utility Efficiency for Minimax: 0.97972233449008\n",
      "Social Utility Efficiency for Stable Voting: 0.9854006210048651\n",
      "Social Utility Efficiency for Beat Path: 0.9796075172450456\n",
      "Social Utility Efficiency for Ranked Pairs ZT: 0.9849917529535823\n"
     ]
    }
   ],
   "source": [
    "num_cands = 10\n",
    "num_voters = 100\n",
    "num_dims = 2\n",
    "\n",
    "cand_cov = generate_covariance(num_dims, 1, 0.0)\n",
    "voter_cov = generate_covariance(num_dims, 1, 0.0)\n",
    "\n",
    "num_trials = 10000\n",
    "\n",
    "vms = [\n",
    "    plurality, \n",
    "    plurality_with_runoff,\n",
    "    instant_runoff,\n",
    "    borda,\n",
    "    coombs,\n",
    "    blacks, \n",
    "    minimax, \n",
    "    stable_voting,\n",
    "    beat_path_Floyd_Warshall, \n",
    "    ranked_pairs_zt]\n",
    "\n",
    "social_utilities_candidates = list()\n",
    "social_utilities_vm_winners = {vm.name: list() for vm in vms}\n",
    "social_utilities_util_winners = list()\n",
    "\n",
    "for t in tqdm(range(num_trials)): \n",
    "    sp = generate_spatial_profile(num_cands, num_voters, num_dims, cand_cov = cand_cov, voter_cov = voter_cov)\n",
    "\n",
    "    uprof = sp.to_utility_profile(utility_function=linear_utility).normalize()\n",
    "    prof = uprof.to_ranking_profile().to_linear_profile()\n",
    "\n",
    "    avg_util = uprof.avg_utility_function()\n",
    "\n",
    "\n",
    "    util_ws = sum_utilitarian_ws(uprof)\n",
    "\n",
    "    for w in util_ws: \n",
    "        social_utilities_util_winners.append(avg_util(w))\n",
    "\n",
    "    ws_dict = {vm.name: vm(prof) for vm in vms}\n",
    "\n",
    "    for vm in vms:\n",
    "        for w in ws_dict[vm.name]:\n",
    "            social_utilities_vm_winners[vm.name].append(avg_util(w))\n",
    "\n",
    "    for c in prof.candidates: \n",
    "        social_utilities_candidates.append(avg_util(c))\n",
    "\n",
    "\n",
    "avg_social_utilities_util_winners = np.average(social_utilities_util_winners)\n",
    "avg_social_utilities_vm_winners = {vm.name: np.average(social_utilities_vm_winners[vm.name]) for vm in vms}\n",
    "avg_social_utilities_candidates = np.average(social_utilities_candidates)\n",
    "\n",
    "soc_util_efficiency = {vm.name: (avg_social_utilities_vm_winners[vm.name] - avg_social_utilities_candidates) / (avg_social_utilities_util_winners - avg_social_utilities_candidates) for vm in vms}\n",
    "\n",
    "for vm in vms: \n",
    "    print(f\"Social Utility Efficiency for {vm.name}: {soc_util_efficiency[vm.name]}\")"
   ]
  },
  {
   "cell_type": "code",
   "execution_count": null,
   "id": "b3edcfc3",
   "metadata": {},
   "outputs": [],
   "source": []
  }
 ],
 "metadata": {
  "kernelspec": {
   "display_name": "Python 3 (ipykernel)",
   "language": "python",
   "name": "python3"
  },
  "language_info": {
   "codemirror_mode": {
    "name": "ipython",
    "version": 3
   },
   "file_extension": ".py",
   "mimetype": "text/x-python",
   "name": "python",
   "nbconvert_exporter": "python",
   "pygments_lexer": "ipython3",
   "version": "3.11.1"
  },
  "vscode": {
   "interpreter": {
    "hash": "3e0b5a01b8f727ee5e6561dee9387cd7de3c110c3a4eff66a475afe21c23d281"
   }
  }
 },
 "nbformat": 4,
 "nbformat_minor": 5
}
